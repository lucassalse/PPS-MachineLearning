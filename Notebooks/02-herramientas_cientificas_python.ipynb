{
 "cells": [
  {
   "cell_type": "markdown",
   "metadata": {
    "id": "XwGB9HDtWYT0"
   },
   "source": [
    "\n",
    "\n",
    "```\n",
    "# Esto tiene formato de código\n",
    "```\n",
    "\n",
    "Jupyter Notebooks (libros de notas o cuadernos Jupyter)\n",
    "==================\n",
    "\n",
    "* Puedes ejecutar un `Cell` (celda) pulsando ``[shift] + [Enter]`` o presionando el botón `Play` en la barra de herramientas.\n",
    "\n",
    "![](figures/ipython_run_cell.png)\n",
    "\n",
    "* Puedes obtener ayuda sobre una función u objeto presionando ``[shift] + [tab]`` después de los paréntesis de apertura ``function(``\n",
    "\n",
    "![](figures/ipython_help-1.png)\n",
    "\n",
    "* También puedes obtener la ayuda ejecutando ``function?``\n",
    "\n",
    "![](figures/ipython_help-2.png)"
   ]
  },
  {
   "cell_type": "markdown",
   "metadata": {
    "id": "CF8U5qyxWYT_"
   },
   "source": [
    "## Matrices de Numpy"
   ]
  },
  {
   "cell_type": "markdown",
   "metadata": {
    "id": "ft3hJWd7WYUA"
   },
   "source": [
    "Manipular matrices de `numpy` es un parte muy importante del aprendizaje automático en Python (en realidad, de cualquier tipo de computación científica). Esto será un repaso para la mayoría. En cualquier caso, repasemos las características más importantes."
   ]
  },
  {
   "cell_type": "code",
   "execution_count": 1,
   "metadata": {
    "colab": {
     "base_uri": "https://localhost:8080/"
    },
    "executionInfo": {
     "elapsed": 1377,
     "status": "ok",
     "timestamp": 1614544598836,
     "user": {
      "displayName": "AUGUSTO GABRIEL PICHETTI",
      "photoUrl": "",
      "userId": "17712930351470009201"
     },
     "user_tz": 180
    },
    "id": "1BQh55lfWYUB",
    "outputId": "f71720bf-2ea1-45e8-d296-66420ea04728"
   },
   "outputs": [
    {
     "name": "stdout",
     "output_type": "stream",
     "text": [
      "[[0.69646919 0.28613933 0.22685145 0.55131477 0.71946897]\n",
      " [0.42310646 0.9807642  0.68482974 0.4809319  0.39211752]\n",
      " [0.34317802 0.72904971 0.43857224 0.0596779  0.39804426]]\n"
     ]
    }
   ],
   "source": [
    "import numpy as np\n",
    "\n",
    "# Semilla de números aleatorios (para reproducibilidad)\n",
    "rnd = np.random.RandomState(seed=123)\n",
    "\n",
    "# Generar una matriz aleatoria\n",
    "X = rnd.uniform(low=0.0, high=1.0, size=(3, 5))  # dimensiones 3x5\n",
    "\n",
    "print(X)"
   ]
  },
  {
   "cell_type": "markdown",
   "metadata": {
    "id": "liGaBKKbWYUC"
   },
   "source": [
    "(tener en cuenta que los arrays en numpy se indexan desde el 0, al igual que la mayoría de estructuras en Python)"
   ]
  },
  {
   "cell_type": "code",
   "execution_count": 2,
   "metadata": {
    "colab": {
     "base_uri": "https://localhost:8080/"
    },
    "executionInfo": {
     "elapsed": 1122,
     "status": "ok",
     "timestamp": 1614544624775,
     "user": {
      "displayName": "AUGUSTO GABRIEL PICHETTI",
      "photoUrl": "",
      "userId": "17712930351470009201"
     },
     "user_tz": 180
    },
    "id": "NZQaHi0nWYUC",
    "outputId": "0ccdf04b-d289-4fd8-bf04-910eb3f05ec2"
   },
   "outputs": [
    {
     "name": "stdout",
     "output_type": "stream",
     "text": [
      "0.6964691855978616\n",
      "[0.42310646 0.9807642  0.68482974 0.4809319  0.39211752]\n",
      "[0.28613933 0.9807642  0.72904971]\n"
     ]
    }
   ],
   "source": [
    "# Acceder a los elementos\n",
    "\n",
    "# Obtener un único elemento\n",
    "# (primera fila, primera columna)\n",
    "print(X[0, 0])\n",
    "\n",
    "# Obtener una fila\n",
    "# (segunda fila)\n",
    "print(X[1])\n",
    "\n",
    "# Obtener una columna\n",
    "# (segunda columna)\n",
    "print(X[:, 1])"
   ]
  },
  {
   "cell_type": "code",
   "execution_count": 3,
   "metadata": {
    "id": "OIJp4ugDWYUD"
   },
   "outputs": [
    {
     "name": "stdout",
     "output_type": "stream",
     "text": [
      "[[0.69646919 0.42310646 0.34317802]\n",
      " [0.28613933 0.9807642  0.72904971]\n",
      " [0.22685145 0.68482974 0.43857224]\n",
      " [0.55131477 0.4809319  0.0596779 ]\n",
      " [0.71946897 0.39211752 0.39804426]]\n"
     ]
    }
   ],
   "source": [
    "# Obtener la traspuesta\n",
    "print(X.T)"
   ]
  },
  {
   "cell_type": "markdown",
   "metadata": {
    "id": "a1iBXOpOWYUD"
   },
   "source": [
    "$$\\begin{bmatrix}\n",
    "    1 & 2 & 3 & 4 \\\\\n",
    "    5 & 6 & 7 & 8\n",
    "\\end{bmatrix}^T\n",
    "= \n",
    "\\begin{bmatrix}\n",
    "    1 & 5 \\\\\n",
    "    2 & 6 \\\\\n",
    "    3 & 7 \\\\\n",
    "    4 & 8\n",
    "\\end{bmatrix}\n",
    "$$\n",
    "\n"
   ]
  },
  {
   "cell_type": "code",
   "execution_count": 4,
   "metadata": {
    "id": "vnY0c3L6WYUE"
   },
   "outputs": [
    {
     "name": "stdout",
     "output_type": "stream",
     "text": [
      "[ 0.  3.  6.  9. 12.]\n"
     ]
    }
   ],
   "source": [
    "# Crear un vector fila de números con la misma separación\n",
    "# sobre un intervalo prefijado\n",
    "y = np.linspace(0, 12, 5)\n",
    "print(y)"
   ]
  },
  {
   "cell_type": "code",
   "execution_count": 5,
   "metadata": {
    "id": "IiE5H2_TWYUE"
   },
   "outputs": [
    {
     "name": "stdout",
     "output_type": "stream",
     "text": [
      "[[ 0.]\n",
      " [ 3.]\n",
      " [ 6.]\n",
      " [ 9.]\n",
      " [12.]]\n"
     ]
    }
   ],
   "source": [
    "# Transformar el vector fila en un vector columna\n",
    "print(y[:, np.newaxis])"
   ]
  },
  {
   "cell_type": "code",
   "execution_count": 6,
   "metadata": {
    "id": "RXJujgYbWYUE"
   },
   "outputs": [
    {
     "name": "stdout",
     "output_type": "stream",
     "text": [
      "[[0.69646919 0.28613933 0.22685145 0.55131477 0.71946897]\n",
      " [0.42310646 0.9807642  0.68482974 0.4809319  0.39211752]\n",
      " [0.34317802 0.72904971 0.43857224 0.0596779  0.39804426]]\n",
      "(3, 5)\n",
      "[[0.69646919 0.28613933 0.22685145]\n",
      " [0.55131477 0.71946897 0.42310646]\n",
      " [0.9807642  0.68482974 0.4809319 ]\n",
      " [0.39211752 0.34317802 0.72904971]\n",
      " [0.43857224 0.0596779  0.39804426]]\n"
     ]
    }
   ],
   "source": [
    "# Obtener la forma de un array y cambiarla\n",
    "\n",
    "# Generar un array aleatorio\n",
    "rnd = np.random.RandomState(seed=123)\n",
    "X = rnd.uniform(low=0.0, high=1.0, size=(3, 5))  # a 3 x 5 array\n",
    "\n",
    "print(X)\n",
    "print(X.shape)\n",
    "print(X.reshape(5, 3))"
   ]
  },
  {
   "cell_type": "code",
   "execution_count": 7,
   "metadata": {
    "id": "qLEcQb3fWYUF"
   },
   "outputs": [
    {
     "name": "stdout",
     "output_type": "stream",
     "text": [
      "[3 1 0]\n"
     ]
    },
    {
     "data": {
      "text/plain": [
       "array([[0.55131477, 0.28613933, 0.69646919],\n",
       "       [0.4809319 , 0.9807642 , 0.42310646],\n",
       "       [0.0596779 , 0.72904971, 0.34317802]])"
      ]
     },
     "execution_count": 7,
     "metadata": {},
     "output_type": "execute_result"
    }
   ],
   "source": [
    "# Indexar según un conjunto de números enteros\n",
    "indices = np.array([3, 1, 0])\n",
    "print(indices)\n",
    "X[:, indices]"
   ]
  },
  {
   "cell_type": "markdown",
   "metadata": {
    "id": "NKzrmtRsWYUF"
   },
   "source": [
    "Hay mucho más que aprender, pero esto cubre algunas de las cosas fundamentales que se tratarán en este curso."
   ]
  },
  {
   "cell_type": "markdown",
   "metadata": {
    "id": "pqw8qUQJWYUG"
   },
   "source": [
    "## Matrices dispersas de SciPy"
   ]
  },
  {
   "cell_type": "markdown",
   "metadata": {
    "id": "Ca9YlGQyWYUG"
   },
   "source": [
    "No utilizaremos demasiado las matrices dispersas, pero son muy útiles en múltiples situaciones. En algunas tareas de aprendizaje automático, especialmente en aquellas asociadas con análisis de textos, los datos son casi siempre ceros. Guardar todos estos ceros es muy poco eficiente, mientras que representar estas matrices de forma que solo almacenemos `lo qué no es cero` es mucho más eficiente. Podemos crear y manipular matrices dispersas de la siguiente forma:"
   ]
  },
  {
   "cell_type": "code",
   "execution_count": 8,
   "metadata": {
    "colab": {
     "base_uri": "https://localhost:8080/"
    },
    "executionInfo": {
     "elapsed": 1127,
     "status": "ok",
     "timestamp": 1614544675084,
     "user": {
      "displayName": "AUGUSTO GABRIEL PICHETTI",
      "photoUrl": "",
      "userId": "17712930351470009201"
     },
     "user_tz": 180
    },
    "id": "6gKl_ktiWYUG",
    "outputId": "2e25286a-c615-459b-8e7f-ddcfc455824f"
   },
   "outputs": [
    {
     "name": "stdout",
     "output_type": "stream",
     "text": [
      "[[0.69646919 0.28613933 0.22685145 0.55131477 0.71946897]\n",
      " [0.42310646 0.9807642  0.68482974 0.4809319  0.39211752]\n",
      " [0.34317802 0.72904971 0.43857224 0.0596779  0.39804426]\n",
      " [0.73799541 0.18249173 0.17545176 0.53155137 0.53182759]\n",
      " [0.63440096 0.84943179 0.72445532 0.61102351 0.72244338]\n",
      " [0.32295891 0.36178866 0.22826323 0.29371405 0.63097612]\n",
      " [0.09210494 0.43370117 0.43086276 0.4936851  0.42583029]\n",
      " [0.31226122 0.42635131 0.89338916 0.94416002 0.50183668]\n",
      " [0.62395295 0.1156184  0.31728548 0.41482621 0.86630916]\n",
      " [0.25045537 0.48303426 0.98555979 0.51948512 0.61289453]]\n"
     ]
    }
   ],
   "source": [
    "from scipy import sparse\n",
    "\n",
    "# Crear una matriz de aleatorios entre 0 y 1\n",
    "rnd = np.random.RandomState(seed=123)\n",
    "\n",
    "X = rnd.uniform(low=0.0, high=1.0, size=(10, 5))\n",
    "print(X)"
   ]
  },
  {
   "cell_type": "code",
   "execution_count": 9,
   "metadata": {
    "colab": {
     "base_uri": "https://localhost:8080/"
    },
    "executionInfo": {
     "elapsed": 1102,
     "status": "ok",
     "timestamp": 1614544682809,
     "user": {
      "displayName": "AUGUSTO GABRIEL PICHETTI",
      "photoUrl": "",
      "userId": "17712930351470009201"
     },
     "user_tz": 180
    },
    "id": "pYmsF0C_WYUH",
    "outputId": "ad5ec725-d705-44bf-dce4-8c9eb4ebb86f"
   },
   "outputs": [
    {
     "name": "stdout",
     "output_type": "stream",
     "text": [
      "[[0.         0.         0.         0.         0.71946897]\n",
      " [0.         0.9807642  0.         0.         0.        ]\n",
      " [0.         0.72904971 0.         0.         0.        ]\n",
      " [0.73799541 0.         0.         0.         0.        ]\n",
      " [0.         0.84943179 0.72445532 0.         0.72244338]\n",
      " [0.         0.         0.         0.         0.        ]\n",
      " [0.         0.         0.         0.         0.        ]\n",
      " [0.         0.         0.89338916 0.94416002 0.        ]\n",
      " [0.         0.         0.         0.         0.86630916]\n",
      " [0.         0.         0.98555979 0.         0.        ]]\n"
     ]
    }
   ],
   "source": [
    "# Poner a cero la mayoría de elementos\n",
    "X[X < 0.7] = 0\n",
    "print(X)"
   ]
  },
  {
   "cell_type": "code",
   "execution_count": 10,
   "metadata": {
    "colab": {
     "base_uri": "https://localhost:8080/"
    },
    "executionInfo": {
     "elapsed": 1109,
     "status": "ok",
     "timestamp": 1614544686189,
     "user": {
      "displayName": "AUGUSTO GABRIEL PICHETTI",
      "photoUrl": "",
      "userId": "17712930351470009201"
     },
     "user_tz": 180
    },
    "id": "s3bbKIwfWYUH",
    "outputId": "c56714b9-51a9-49bb-dece-7873cad94f74"
   },
   "outputs": [
    {
     "name": "stdout",
     "output_type": "stream",
     "text": [
      "  (0, 4)\t0.7194689697855631\n",
      "  (1, 1)\t0.9807641983846155\n",
      "  (2, 1)\t0.7290497073840416\n",
      "  (3, 0)\t0.7379954057320357\n",
      "  (4, 1)\t0.8494317940777896\n",
      "  (4, 2)\t0.7244553248606352\n",
      "  (4, 4)\t0.7224433825702216\n",
      "  (7, 2)\t0.8933891631171348\n",
      "  (7, 3)\t0.9441600182038796\n",
      "  (8, 4)\t0.8663091578833659\n",
      "  (9, 2)\t0.985559785610705\n"
     ]
    }
   ],
   "source": [
    "# Transformar X en una matriz CSR (Compressed-Sparse-Row)\n",
    "X_csr = sparse.csr_matrix(X)\n",
    "print(X_csr)"
   ]
  },
  {
   "cell_type": "code",
   "execution_count": 11,
   "metadata": {
    "colab": {
     "base_uri": "https://localhost:8080/"
    },
    "executionInfo": {
     "elapsed": 1113,
     "status": "ok",
     "timestamp": 1614544689061,
     "user": {
      "displayName": "AUGUSTO GABRIEL PICHETTI",
      "photoUrl": "",
      "userId": "17712930351470009201"
     },
     "user_tz": 180
    },
    "id": "2c1Xob4lWYUH",
    "outputId": "43b3cf27-804e-45ef-f185-55b3ae5d55f6"
   },
   "outputs": [
    {
     "name": "stdout",
     "output_type": "stream",
     "text": [
      "[[0.         0.         0.         0.         0.71946897]\n",
      " [0.         0.9807642  0.         0.         0.        ]\n",
      " [0.         0.72904971 0.         0.         0.        ]\n",
      " [0.73799541 0.         0.         0.         0.        ]\n",
      " [0.         0.84943179 0.72445532 0.         0.72244338]\n",
      " [0.         0.         0.         0.         0.        ]\n",
      " [0.         0.         0.         0.         0.        ]\n",
      " [0.         0.         0.89338916 0.94416002 0.        ]\n",
      " [0.         0.         0.         0.         0.86630916]\n",
      " [0.         0.         0.98555979 0.         0.        ]]\n"
     ]
    }
   ],
   "source": [
    "# Convertir la matriz CSR de nuevo a una matriz densa\n",
    "print(X_csr.toarray())"
   ]
  },
  {
   "cell_type": "markdown",
   "metadata": {
    "id": "4hqS0sZ2WYUI"
   },
   "source": [
    "(puede que encuentres otra forma alternativa para convertir matrices dispersas a densas: `numpy.todense`; `toarray` devuelve un array numpy, mientras que `todense` devuelve una matriz numpy. En este tutorial trabajaremos con arrays numpy, no con matrices, ya que estas últimas no son soportadas por scikit-learn."
   ]
  },
  {
   "cell_type": "markdown",
   "metadata": {
    "id": "7GY3Bx2IWYUI"
   },
   "source": [
    "La representación CSR puede ser muy eficiente para hacer cómputo, pero no tanto para añadir elementos. Para ello, la representación LIL (*List-In-List*) es mejor:"
   ]
  },
  {
   "cell_type": "code",
   "execution_count": 12,
   "metadata": {
    "id": "jEN-JGXPWYUI"
   },
   "outputs": [
    {
     "name": "stdout",
     "output_type": "stream",
     "text": [
      "  (0, 1)\t1.0\n",
      "  (0, 3)\t3.0\n",
      "  (2, 0)\t2.0\n",
      "  (2, 1)\t3.0\n",
      "  (2, 3)\t5.0\n",
      "  (3, 0)\t3.0\n",
      "  (3, 1)\t4.0\n",
      "  (3, 2)\t5.0\n",
      "  (3, 4)\t7.0\n",
      "  (4, 1)\t5.0\n",
      "  (4, 2)\t6.0\n",
      "  (4, 4)\t8.0\n",
      "<class 'scipy.sparse.lil.lil_matrix'>\n"
     ]
    }
   ],
   "source": [
    "# Crear una matriz LIL vacía y añadir algunos elementos\n",
    "X_lil = sparse.lil_matrix((5, 5))\n",
    "\n",
    "for i, j in np.random.randint(0, 5, (15, 2)):\n",
    "    X_lil[i, j] = i + j\n",
    "\n",
    "print(X_lil)\n",
    "print(type(X_lil))"
   ]
  },
  {
   "cell_type": "code",
   "execution_count": 13,
   "metadata": {
    "id": "KgaWhMjYWYUJ"
   },
   "outputs": [
    {
     "name": "stdout",
     "output_type": "stream",
     "text": [
      "[[0. 1. 0. 3. 0.]\n",
      " [0. 0. 0. 0. 0.]\n",
      " [2. 3. 0. 5. 0.]\n",
      " [3. 4. 5. 0. 7.]\n",
      " [0. 5. 6. 0. 8.]]\n",
      "<class 'numpy.ndarray'>\n"
     ]
    }
   ],
   "source": [
    "X_dense = X_lil.toarray()\n",
    "print(X_dense)\n",
    "print(type(X_dense))"
   ]
  },
  {
   "cell_type": "markdown",
   "metadata": {
    "id": "SG-vBW6FWYUJ"
   },
   "source": [
    "A menudo, una vez creamos la matriz LIL, es útil convertirla al formato CSR (muchos algoritmos de scikit-learn requieren formatos CSR)"
   ]
  },
  {
   "cell_type": "code",
   "execution_count": 14,
   "metadata": {
    "id": "hGpYCyMjWYUJ"
   },
   "outputs": [
    {
     "name": "stdout",
     "output_type": "stream",
     "text": [
      "  (0, 1)\t1.0\n",
      "  (0, 3)\t3.0\n",
      "  (2, 0)\t2.0\n",
      "  (2, 1)\t3.0\n",
      "  (2, 3)\t5.0\n",
      "  (3, 0)\t3.0\n",
      "  (3, 1)\t4.0\n",
      "  (3, 2)\t5.0\n",
      "  (3, 4)\t7.0\n",
      "  (4, 1)\t5.0\n",
      "  (4, 2)\t6.0\n",
      "  (4, 4)\t8.0\n",
      "<class 'scipy.sparse.csr.csr_matrix'>\n"
     ]
    }
   ],
   "source": [
    "X_csr = X_lil.tocsr()\n",
    "print(X_csr)\n",
    "print(type(X_csr))"
   ]
  },
  {
   "cell_type": "markdown",
   "metadata": {
    "id": "t1mBw0vcWYUK"
   },
   "source": [
    "Los formatos dispersos disponibles que pueden ser útiles para distintos problemas son:\n",
    "- `CSR` (*compressed sparse row*).\n",
    "- `CSC` (*compressed sparse column*).\n",
    "- `BSR` (*block sparse row*).\n",
    "- `COO` (*coordinate*).\n",
    "- `DIA` (*diagonal*).\n",
    "- `DOK` (*dictionary of keys*).\n",
    "- `LIL` (*list in list*).\n",
    "\n",
    "El paquete [``scipy.sparse``](http://docs.scipy.org/doc/scipy/reference/sparse.html) tienen bastantes funciones para matrices dispersas, incluyendo álgebra lineal, algoritmos de grafos y mucho más."
   ]
  },
  {
   "cell_type": "markdown",
   "metadata": {
    "id": "fgACO5vDWYUK"
   },
   "source": [
    "## matplotlib"
   ]
  },
  {
   "cell_type": "markdown",
   "metadata": {
    "id": "Pa-hLMpOWYUK"
   },
   "source": [
    "Otra parte muy importante del aprendizaje automático es la visualización de datos. La herramienta más habitual para esto en Python es [`matplotlib`](http://matplotlib.org). Es un paquete extremadamente flexible y ahora veremos algunos elementos básicos.\n",
    "\n",
    "Ya que estamos usando los libros (*notebooks*) Jupyter, vamos a usar una de las [funciones mágicas](https://ipython.org/ipython-doc/3/interactive/magics.html) que vienen incluidas en IPython, el modo \"*matoplotlib inline*\", que dibujará los *plots* directamente en el libro."
   ]
  },
  {
   "cell_type": "code",
   "execution_count": 15,
   "metadata": {
    "id": "Sy1yu1RDWYUL"
   },
   "outputs": [
    {
     "name": "stderr",
     "output_type": "stream",
     "text": [
      "Matplotlib is building the font cache; this may take a moment.\n"
     ]
    }
   ],
   "source": [
    "%matplotlib inline"
   ]
  },
  {
   "cell_type": "code",
   "execution_count": 16,
   "metadata": {
    "id": "_-i4u2e4WYUL"
   },
   "outputs": [],
   "source": [
    "import matplotlib.pyplot as plt"
   ]
  },
  {
   "cell_type": "code",
   "execution_count": 17,
   "metadata": {
    "id": "1j_ds4DwWYUL"
   },
   "outputs": [
    {
     "data": {
      "image/png": "[encoded data removed]",
      "text/plain": [
       "<Figure size 432x288 with 1 Axes>"
      ]
     },
     "metadata": {
      "needs_background": "light"
     },
     "output_type": "display_data"
    }
   ],
   "source": [
    "# Dibujar una línea\n",
    "x = np.linspace(0, 10, 100)\n",
    "plt.plot(x, np.sin(x));"
   ]
  },
  {
   "cell_type": "code",
   "execution_count": 18,
   "metadata": {
    "id": "VaXtFNjrWYUL"
   },
   "outputs": [
    {
     "data": {
      "image/png": "[encoded data removed]",
      "text/plain": [
       "<Figure size 432x288 with 1 Axes>"
      ]
     },
     "metadata": {
      "needs_background": "light"
     },
     "output_type": "display_data"
    }
   ],
   "source": [
    "# Dibujar un scatter\n",
    "x = np.random.normal(size=500)\n",
    "y = np.random.normal(size=500)\n",
    "plt.scatter(x, y);"
   ]
  },
  {
   "cell_type": "code",
   "execution_count": 19,
   "metadata": {
    "id": "Qr7fd6qMWYUM"
   },
   "outputs": [
    {
     "name": "stdout",
     "output_type": "stream",
     "text": [
      "(100, 100)\n"
     ]
    },
    {
     "data": {
      "image/png": "[encoded data removed]",
      "text/plain": [
       "<Figure size 432x288 with 1 Axes>"
      ]
     },
     "metadata": {
      "needs_background": "light"
     },
     "output_type": "display_data"
    }
   ],
   "source": [
    "# Mostrar imágenes usando imshow\n",
    "# - Tener en cuenta que el origen por defecto está arriba a la izquierda\n",
    "\n",
    "x = np.linspace(1, 12, 100)\n",
    "y = x[:, np.newaxis]\n",
    "\n",
    "im = y * np.sin(x) * np.cos(y)\n",
    "print(im.shape)\n",
    "\n",
    "plt.imshow(im);"
   ]
  },
  {
   "cell_type": "code",
   "execution_count": 20,
   "metadata": {
    "id": "qaW_HTfsWYUM"
   },
   "outputs": [
    {
     "data": {
      "image/png": "[encoded data removed]",
      "text/plain": [
       "<Figure size 432x288 with 1 Axes>"
      ]
     },
     "metadata": {
      "needs_background": "light"
     },
     "output_type": "display_data"
    }
   ],
   "source": [
    "# Hacer un diagrama de curvas de nivel (contour plot)\n",
    "# - El origen aquí está abajo a la izquierda\n",
    "plt.contour(im);"
   ]
  },
  {
   "cell_type": "code",
   "execution_count": 21,
   "metadata": {
    "id": "F13UmHXUWYUM"
   },
   "outputs": [
    {
     "data": {
      "application/javascript": [
       "/* Put everything inside the global mpl namespace */\n",
       "/* global mpl */\n",
       "window.mpl = {};\n",
       "\n",
       "mpl.get_websocket_type = function () {\n",
       "    if (typeof WebSocket !== 'undefined') {\n",
       "        return WebSocket;\n",
       "    } else if (typeof MozWebSocket !== 'undefined') {\n",
       "        return MozWebSocket;\n",
       "    } else {\n",
       "        alert(\n",
       "            'Your browser does not have WebSocket support. ' +\n",
       "                'Please try Chrome, Safari or Firefox ≥ 6. ' +\n",
       "                'Firefox 4 and 5 are also supported but you ' +\n",
       "                'have to enable WebSockets in about:config.'\n",
       "        );\n",
       "    }\n",
       "};\n",
       "\n",
       "mpl.figure = function (figure_id, websocket, ondownload, parent_element) {\n",
       "    this.id = figure_id;\n",
       "\n",
       "    this.ws = websocket;\n",
       "\n",
       "    this.supports_binary = this.ws.binaryType !== undefined;\n",
       "\n",
       "    if (!this.supports_binary) {\n",
       "        var warnings = document.getElementById('mpl-warnings');\n",
       "        if (warnings) {\n",
       "            warnings.style.display = 'block';\n",
       "            warnings.textContent =\n",
       "                'This browser does not support binary websocket messages. ' +\n",
       "                'Performance may be slow.';\n",
       "        }\n",
       "    }\n",
       "\n",
       "    this.imageObj = new Image();\n",
       "\n",
       "    this.context = undefined;\n",
       "    this.message = undefined;\n",
       "    this.canvas = undefined;\n",
       "    this.rubberband_canvas = undefined;\n",
       "    this.rubberband_context = undefined;\n",
       "    this.format_dropdown = undefined;\n",
       "\n",
       "    this.image_mode = 'full';\n",
       "\n",
       "    this.root = document.createElement('div');\n",
       "    this.root.setAttribute('style', 'display: inline-block');\n",
       "    this._root_extra_style(this.root);\n",
       "\n",
       "    parent_element.appendChild(this.root);\n",
       "\n",
       "    this._init_header(this);\n",
       "    this._init_canvas(this);\n",
       "    this._init_toolbar(this);\n",
       "\n",
       "    var fig = this;\n",
       "\n",
       "    this.waiting = false;\n",
       "\n",
       "    this.ws.onopen = function () {\n",
       "        fig.send_message('supports_binary', { value: fig.supports_binary });\n",
       "        fig.send_message('send_image_mode', {});\n",
       "        if (fig.ratio !== 1) {\n",
       "            fig.send_message('set_dpi_ratio', { dpi_ratio: fig.ratio });\n",
       "        }\n",
       "        fig.send_message('refresh', {});\n",
       "    };\n",
       "\n",
       "    this.imageObj.onload = function () {\n",
       "        if (fig.image_mode === 'full') {\n",
       "            // Full images could contain transparency (where diff images\n",
       "            // almost always do), so we need to clear the canvas so that\n",
       "            // there is no ghosting.\n",
       "            fig.context.clearRect(0, 0, fig.canvas.width, fig.canvas.height);\n",
       "        }\n",
       "        fig.context.drawImage(fig.imageObj, 0, 0);\n",
       "    };\n",
       "\n",
       "    this.imageObj.onunload = function () {\n",
       "        fig.ws.close();\n",
       "    };\n",
       "\n",
       "    this.ws.onmessage = this._make_on_message_function(this);\n",
       "\n",
       "    this.ondownload = ondownload;\n",
       "};\n",
       "\n",
       "mpl.figure.prototype._init_header = function () {\n",
       "    var titlebar = document.createElement('div');\n",
       "    titlebar.classList =\n",
       "        'ui-dialog-titlebar ui-widget-header ui-corner-all ui-helper-clearfix';\n",
       "    var titletext = document.createElement('div');\n",
       "    titletext.classList = 'ui-dialog-title';\n",
       "    titletext.setAttribute(\n",
       "        'style',\n",
       "        'width: 100%; text-align: center; padding: 3px;'\n",
       "    );\n",
       "    titlebar.appendChild(titletext);\n",
       "    this.root.appendChild(titlebar);\n",
       "    this.header = titletext;\n",
       "};\n",
       "\n",
       "mpl.figure.prototype._canvas_extra_style = function (_canvas_div) {};\n",
       "\n",
       "mpl.figure.prototype._root_extra_style = function (_canvas_div) {};\n",
       "\n",
       "mpl.figure.prototype._init_canvas = function () {\n",
       "    var fig = this;\n",
       "\n",
       "    var canvas_div = (this.canvas_div = document.createElement('div'));\n",
       "    canvas_div.setAttribute(\n",
       "        'style',\n",
       "        'border: 1px solid #ddd;' +\n",
       "            'box-sizing: content-box;' +\n",
       "            'clear: both;' +\n",
       "            'min-height: 1px;' +\n",
       "            'min-width: 1px;' +\n",
       "            'outline: 0;' +\n",
       "            'overflow: hidden;' +\n",
       "            'position: relative;' +\n",
       "            'resize: both;'\n",
       "    );\n",
       "\n",
       "    function on_keyboard_event_closure(name) {\n",
       "        return function (event) {\n",
       "            return fig.key_event(event, name);\n",
       "        };\n",
       "    }\n",
       "\n",
       "    canvas_div.addEventListener(\n",
       "        'keydown',\n",
       "        on_keyboard_event_closure('key_press')\n",
       "    );\n",
       "    canvas_div.addEventListener(\n",
       "        'keyup',\n",
       "        on_keyboard_event_closure('key_release')\n",
       "    );\n",
       "\n",
       "    this._canvas_extra_style(canvas_div);\n",
       "    this.root.appendChild(canvas_div);\n",
       "\n",
       "    var canvas = (this.canvas = document.createElement('canvas'));\n",
       "    canvas.classList.add('mpl-canvas');\n",
       "    canvas.setAttribute('style', 'box-sizing: content-box;');\n",
       "\n",
       "    this.context = canvas.getContext('2d');\n",
       "\n",
       "    var backingStore =\n",
       "        this.context.backingStorePixelRatio ||\n",
       "        this.context.webkitBackingStorePixelRatio ||\n",
       "        this.context.mozBackingStorePixelRatio ||\n",
       "        this.context.msBackingStorePixelRatio ||\n",
       "        this.context.oBackingStorePixelRatio ||\n",
       "        this.context.backingStorePixelRatio ||\n",
       "        1;\n",
       "\n",
       "    this.ratio = (window.devicePixelRatio || 1) / backingStore;\n",
       "    if (this.ratio !== 1) {\n",
       "        fig.send_message('set_dpi_ratio', { dpi_ratio: this.ratio });\n",
       "    }\n",
       "\n",
       "    var rubberband_canvas = (this.rubberband_canvas = document.createElement(\n",
       "        'canvas'\n",
       "    ));\n",
       "    rubberband_canvas.setAttribute(\n",
       "        'style',\n",
       "        'box-sizing: content-box; position: absolute; left: 0; top: 0; z-index: 1;'\n",
       "    );\n",
       "\n",
       "    var resizeObserver = new ResizeObserver(function (entries) {\n",
       "        var nentries = entries.length;\n",
       "        for (var i = 0; i < nentries; i++) {\n",
       "            var entry = entries[i];\n",
       "            var width, height;\n",
       "            if (entry.contentBoxSize) {\n",
       "                if (entry.contentBoxSize instanceof Array) {\n",
       "                    // Chrome 84 implements new version of spec.\n",
       "                    width = entry.contentBoxSize[0].inlineSize;\n",
       "                    height = entry.contentBoxSize[0].blockSize;\n",
       "                } else {\n",
       "                    // Firefox implements old version of spec.\n",
       "                    width = entry.contentBoxSize.inlineSize;\n",
       "                    height = entry.contentBoxSize.blockSize;\n",
       "                }\n",
       "            } else {\n",
       "                // Chrome <84 implements even older version of spec.\n",
       "                width = entry.contentRect.width;\n",
       "                height = entry.contentRect.height;\n",
       "            }\n",
       "\n",
       "            // Keep the size of the canvas and rubber band canvas in sync with\n",
       "            // the canvas container.\n",
       "            if (entry.devicePixelContentBoxSize) {\n",
       "                // Chrome 84 implements new version of spec.\n",
       "                canvas.setAttribute(\n",
       "                    'width',\n",
       "                    entry.devicePixelContentBoxSize[0].inlineSize\n",
       "                );\n",
       "                canvas.setAttribute(\n",
       "                    'height',\n",
       "                    entry.devicePixelContentBoxSize[0].blockSize\n",
       "                );\n",
       "            } else {\n",
       "                canvas.setAttribute('width', width * fig.ratio);\n",
       "                canvas.setAttribute('height', height * fig.ratio);\n",
       "            }\n",
       "            canvas.setAttribute(\n",
       "                'style',\n",
       "                'width: ' + width + 'px; height: ' + height + 'px;'\n",
       "            );\n",
       "\n",
       "            rubberband_canvas.setAttribute('width', width);\n",
       "            rubberband_canvas.setAttribute('height', height);\n",
       "\n",
       "            // And update the size in Python. We ignore the initial 0/0 size\n",
       "            // that occurs as the element is placed into the DOM, which should\n",
       "            // otherwise not happen due to the minimum size styling.\n",
       "            if (width != 0 && height != 0) {\n",
       "                fig.request_resize(width, height);\n",
       "            }\n",
       "        }\n",
       "    });\n",
       "    resizeObserver.observe(canvas_div);\n",
       "\n",
       "    function on_mouse_event_closure(name) {\n",
       "        return function (event) {\n",
       "            return fig.mouse_event(event, name);\n",
       "        };\n",
       "    }\n",
       "\n",
       "    rubberband_canvas.addEventListener(\n",
       "        'mousedown',\n",
       "        on_mouse_event_closure('button_press')\n",
       "    );\n",
       "    rubberband_canvas.addEventListener(\n",
       "        'mouseup',\n",
       "        on_mouse_event_closure('button_release')\n",
       "    );\n",
       "    // Throttle sequential mouse events to 1 every 20ms.\n",
       "    rubberband_canvas.addEventListener(\n",
       "        'mousemove',\n",
       "        on_mouse_event_closure('motion_notify')\n",
       "    );\n",
       "\n",
       "    rubberband_canvas.addEventListener(\n",
       "        'mouseenter',\n",
       "        on_mouse_event_closure('figure_enter')\n",
       "    );\n",
       "    rubberband_canvas.addEventListener(\n",
       "        'mouseleave',\n",
       "        on_mouse_event_closure('figure_leave')\n",
       "    );\n",
       "\n",
       "    canvas_div.addEventListener('wheel', function (event) {\n",
       "        if (event.deltaY < 0) {\n",
       "            event.step = 1;\n",
       "        } else {\n",
       "            event.step = -1;\n",
       "        }\n",
       "        on_mouse_event_closure('scroll')(event);\n",
       "    });\n",
       "\n",
       "    canvas_div.appendChild(canvas);\n",
       "    canvas_div.appendChild(rubberband_canvas);\n",
       "\n",
       "    this.rubberband_context = rubberband_canvas.getContext('2d');\n",
       "    this.rubberband_context.strokeStyle = '#000000';\n",
       "\n",
       "    this._resize_canvas = function (width, height, forward) {\n",
       "        if (forward) {\n",
       "            canvas_div.style.width = width + 'px';\n",
       "            canvas_div.style.height = height + 'px';\n",
       "        }\n",
       "    };\n",
       "\n",
       "    // Disable right mouse context menu.\n",
       "    this.rubberband_canvas.addEventListener('contextmenu', function (_e) {\n",
       "        event.preventDefault();\n",
       "        return false;\n",
       "    });\n",
       "\n",
       "    function set_focus() {\n",
       "        canvas.focus();\n",
       "        canvas_div.focus();\n",
       "    }\n",
       "\n",
       "    window.setTimeout(set_focus, 100);\n",
       "};\n",
       "\n",
       "mpl.figure.prototype._init_toolbar = function () {\n",
       "    var fig = this;\n",
       "\n",
       "    var toolbar = document.createElement('div');\n",
       "    toolbar.classList = 'mpl-toolbar';\n",
       "    this.root.appendChild(toolbar);\n",
       "\n",
       "    function on_click_closure(name) {\n",
       "        return function (_event) {\n",
       "            return fig.toolbar_button_onclick(name);\n",
       "        };\n",
       "    }\n",
       "\n",
       "    function on_mouseover_closure(tooltip) {\n",
       "        return function (event) {\n",
       "            if (!event.currentTarget.disabled) {\n",
       "                return fig.toolbar_button_onmouseover(tooltip);\n",
       "            }\n",
       "        };\n",
       "    }\n",
       "\n",
       "    fig.buttons = {};\n",
       "    var buttonGroup = document.createElement('div');\n",
       "    buttonGroup.classList = 'mpl-button-group';\n",
       "    for (var toolbar_ind in mpl.toolbar_items) {\n",
       "        var name = mpl.toolbar_items[toolbar_ind][0];\n",
       "        var tooltip = mpl.toolbar_items[toolbar_ind][1];\n",
       "        var image = mpl.toolbar_items[toolbar_ind][2];\n",
       "        var method_name = mpl.toolbar_items[toolbar_ind][3];\n",
       "\n",
       "        if (!name) {\n",
       "            /* Instead of a spacer, we start a new button group. */\n",
       "            if (buttonGroup.hasChildNodes()) {\n",
       "                toolbar.appendChild(buttonGroup);\n",
       "            }\n",
       "            buttonGroup = document.createElement('div');\n",
       "            buttonGroup.classList = 'mpl-button-group';\n",
       "            continue;\n",
       "        }\n",
       "\n",
       "        var button = (fig.buttons[name] = document.createElement('button'));\n",
       "        button.classList = 'mpl-widget';\n",
       "        button.setAttribute('role', 'button');\n",
       "        button.setAttribute('aria-disabled', 'false');\n",
       "        button.addEventListener('click', on_click_closure(method_name));\n",
       "        button.addEventListener('mouseover', on_mouseover_closure(tooltip));\n",
       "\n",
       "        var icon_img = document.createElement('img');\n",
       "        icon_img.src = '_images/' + image + '.png';\n",
       "        icon_img.srcset = '_images/' + image + '_large.png 2x';\n",
       "        icon_img.alt = tooltip;\n",
       "        button.appendChild(icon_img);\n",
       "\n",
       "        buttonGroup.appendChild(button);\n",
       "    }\n",
       "\n",
       "    if (buttonGroup.hasChildNodes()) {\n",
       "        toolbar.appendChild(buttonGroup);\n",
       "    }\n",
       "\n",
       "    var fmt_picker = document.createElement('select');\n",
       "    fmt_picker.classList = 'mpl-widget';\n",
       "    toolbar.appendChild(fmt_picker);\n",
       "    this.format_dropdown = fmt_picker;\n",
       "\n",
       "    for (var ind in mpl.extensions) {\n",
       "        var fmt = mpl.extensions[ind];\n",
       "        var option = document.createElement('option');\n",
       "        option.selected = fmt === mpl.default_extension;\n",
       "        option.innerHTML = fmt;\n",
       "        fmt_picker.appendChild(option);\n",
       "    }\n",
       "\n",
       "    var status_bar = document.createElement('span');\n",
       "    status_bar.classList = 'mpl-message';\n",
       "    toolbar.appendChild(status_bar);\n",
       "    this.message = status_bar;\n",
       "};\n",
       "\n",
       "mpl.figure.prototype.request_resize = function (x_pixels, y_pixels) {\n",
       "    // Request matplotlib to resize the figure. Matplotlib will then trigger a resize in the client,\n",
       "    // which will in turn request a refresh of the image.\n",
       "    this.send_message('resize', { width: x_pixels, height: y_pixels });\n",
       "};\n",
       "\n",
       "mpl.figure.prototype.send_message = function (type, properties) {\n",
       "    properties['type'] = type;\n",
       "    properties['figure_id'] = this.id;\n",
       "    this.ws.send(JSON.stringify(properties));\n",
       "};\n",
       "\n",
       "mpl.figure.prototype.send_draw_message = function () {\n",
       "    if (!this.waiting) {\n",
       "        this.waiting = true;\n",
       "        this.ws.send(JSON.stringify({ type: 'draw', figure_id: this.id }));\n",
       "    }\n",
       "};\n",
       "\n",
       "mpl.figure.prototype.handle_save = function (fig, _msg) {\n",
       "    var format_dropdown = fig.format_dropdown;\n",
       "    var format = format_dropdown.options[format_dropdown.selectedIndex].value;\n",
       "    fig.ondownload(fig, format);\n",
       "};\n",
       "\n",
       "mpl.figure.prototype.handle_resize = function (fig, msg) {\n",
       "    var size = msg['size'];\n",
       "    if (size[0] !== fig.canvas.width || size[1] !== fig.canvas.height) {\n",
       "        fig._resize_canvas(size[0], size[1], msg['forward']);\n",
       "        fig.send_message('refresh', {});\n",
       "    }\n",
       "};\n",
       "\n",
       "mpl.figure.prototype.handle_rubberband = function (fig, msg) {\n",
       "    var x0 = msg['x0'] / fig.ratio;\n",
       "    var y0 = (fig.canvas.height - msg['y0']) / fig.ratio;\n",
       "    var x1 = msg['x1'] / fig.ratio;\n",
       "    var y1 = (fig.canvas.height - msg['y1']) / fig.ratio;\n",
       "    x0 = Math.floor(x0) + 0.5;\n",
       "    y0 = Math.floor(y0) + 0.5;\n",
       "    x1 = Math.floor(x1) + 0.5;\n",
       "    y1 = Math.floor(y1) + 0.5;\n",
       "    var min_x = Math.min(x0, x1);\n",
       "    var min_y = Math.min(y0, y1);\n",
       "    var width = Math.abs(x1 - x0);\n",
       "    var height = Math.abs(y1 - y0);\n",
       "\n",
       "    fig.rubberband_context.clearRect(\n",
       "        0,\n",
       "        0,\n",
       "        fig.canvas.width / fig.ratio,\n",
       "        fig.canvas.height / fig.ratio\n",
       "    );\n",
       "\n",
       "    fig.rubberband_context.strokeRect(min_x, min_y, width, height);\n",
       "};\n",
       "\n",
       "mpl.figure.prototype.handle_figure_label = function (fig, msg) {\n",
       "    // Updates the figure title.\n",
       "    fig.header.textContent = msg['label'];\n",
       "};\n",
       "\n",
       "mpl.figure.prototype.handle_cursor = function (fig, msg) {\n",
       "    var cursor = msg['cursor'];\n",
       "    switch (cursor) {\n",
       "        case 0:\n",
       "            cursor = 'pointer';\n",
       "            break;\n",
       "        case 1:\n",
       "            cursor = 'default';\n",
       "            break;\n",
       "        case 2:\n",
       "            cursor = 'crosshair';\n",
       "            break;\n",
       "        case 3:\n",
       "            cursor = 'move';\n",
       "            break;\n",
       "    }\n",
       "    fig.rubberband_canvas.style.cursor = cursor;\n",
       "};\n",
       "\n",
       "mpl.figure.prototype.handle_message = function (fig, msg) {\n",
       "    fig.message.textContent = msg['message'];\n",
       "};\n",
       "\n",
       "mpl.figure.prototype.handle_draw = function (fig, _msg) {\n",
       "    // Request the server to send over a new figure.\n",
       "    fig.send_draw_message();\n",
       "};\n",
       "\n",
       "mpl.figure.prototype.handle_image_mode = function (fig, msg) {\n",
       "    fig.image_mode = msg['mode'];\n",
       "};\n",
       "\n",
       "mpl.figure.prototype.handle_history_buttons = function (fig, msg) {\n",
       "    for (var key in msg) {\n",
       "        if (!(key in fig.buttons)) {\n",
       "            continue;\n",
       "        }\n",
       "        fig.buttons[key].disabled = !msg[key];\n",
       "        fig.buttons[key].setAttribute('aria-disabled', !msg[key]);\n",
       "    }\n",
       "};\n",
       "\n",
       "mpl.figure.prototype.handle_navigate_mode = function (fig, msg) {\n",
       "    if (msg['mode'] === 'PAN') {\n",
       "        fig.buttons['Pan'].classList.add('active');\n",
       "        fig.buttons['Zoom'].classList.remove('active');\n",
       "    } else if (msg['mode'] === 'ZOOM') {\n",
       "        fig.buttons['Pan'].classList.remove('active');\n",
       "        fig.buttons['Zoom'].classList.add('active');\n",
       "    } else {\n",
       "        fig.buttons['Pan'].classList.remove('active');\n",
       "        fig.buttons['Zoom'].classList.remove('active');\n",
       "    }\n",
       "};\n",
       "\n",
       "mpl.figure.prototype.updated_canvas_event = function () {\n",
       "    // Called whenever the canvas gets updated.\n",
       "    this.send_message('ack', {});\n",
       "};\n",
       "\n",
       "// A function to construct a web socket function for onmessage handling.\n",
       "// Called in the figure constructor.\n",
       "mpl.figure.prototype._make_on_message_function = function (fig) {\n",
       "    return function socket_on_message(evt) {\n",
       "        if (evt.data instanceof Blob) {\n",
       "            /* FIXME: We get \"Resource interpreted as Image but\n",
       "             * transferred with MIME type text/plain:\" errors on\n",
       "             * Chrome.  But how to set the MIME type?  It doesn't seem\n",
       "             * to be part of the websocket stream */\n",
       "            evt.data.type = 'image/png';\n",
       "\n",
       "            /* Free the memory for the previous frames */\n",
       "            if (fig.imageObj.src) {\n",
       "                (window.URL || window.webkitURL).revokeObjectURL(\n",
       "                    fig.imageObj.src\n",
       "                );\n",
       "            }\n",
       "\n",
       "            fig.imageObj.src = (window.URL || window.webkitURL).createObjectURL(\n",
       "                evt.data\n",
       "            );\n",
       "            fig.updated_canvas_event();\n",
       "            fig.waiting = false;\n",
       "            return;\n",
       "        } else if (\n",
       "            typeof evt.data === 'string' &&\n",
       "            evt.data.slice(0, 21) === 'data:image/png;base64'\n",
       "        ) {\n",
       "            fig.imageObj.src = evt.data;\n",
       "            fig.updated_canvas_event();\n",
       "            fig.waiting = false;\n",
       "            return;\n",
       "        }\n",
       "\n",
       "        var msg = JSON.parse(evt.data);\n",
       "        var msg_type = msg['type'];\n",
       "\n",
       "        // Call the  \"handle_{type}\" callback, which takes\n",
       "        // the figure and JSON message as its only arguments.\n",
       "        try {\n",
       "            var callback = fig['handle_' + msg_type];\n",
       "        } catch (e) {\n",
       "            console.log(\n",
       "                \"No handler for the '\" + msg_type + \"' message type: \",\n",
       "                msg\n",
       "            );\n",
       "            return;\n",
       "        }\n",
       "\n",
       "        if (callback) {\n",
       "            try {\n",
       "                // console.log(\"Handling '\" + msg_type + \"' message: \", msg);\n",
       "                callback(fig, msg);\n",
       "            } catch (e) {\n",
       "                console.log(\n",
       "                    \"Exception inside the 'handler_\" + msg_type + \"' callback:\",\n",
       "                    e,\n",
       "                    e.stack,\n",
       "                    msg\n",
       "                );\n",
       "            }\n",
       "        }\n",
       "    };\n",
       "};\n",
       "\n",
       "// from http://stackoverflow.com/questions/1114465/getting-mouse-location-in-canvas\n",
       "mpl.findpos = function (e) {\n",
       "    //this section is from http://www.quirksmode.org/js/events_properties.html\n",
       "    var targ;\n",
       "    if (!e) {\n",
       "        e = window.event;\n",
       "    }\n",
       "    if (e.target) {\n",
       "        targ = e.target;\n",
       "    } else if (e.srcElement) {\n",
       "        targ = e.srcElement;\n",
       "    }\n",
       "    if (targ.nodeType === 3) {\n",
       "        // defeat Safari bug\n",
       "        targ = targ.parentNode;\n",
       "    }\n",
       "\n",
       "    // pageX,Y are the mouse positions relative to the document\n",
       "    var boundingRect = targ.getBoundingClientRect();\n",
       "    var x = e.pageX - (boundingRect.left + document.body.scrollLeft);\n",
       "    var y = e.pageY - (boundingRect.top + document.body.scrollTop);\n",
       "\n",
       "    return { x: x, y: y };\n",
       "};\n",
       "\n",
       "/*\n",
       " * return a copy of an object with only non-object keys\n",
       " * we need this to avoid circular references\n",
       " * http://stackoverflow.com/a/24161582/3208463\n",
       " */\n",
       "function simpleKeys(original) {\n",
       "    return Object.keys(original).reduce(function (obj, key) {\n",
       "        if (typeof original[key] !== 'object') {\n",
       "            obj[key] = original[key];\n",
       "        }\n",
       "        return obj;\n",
       "    }, {});\n",
       "}\n",
       "\n",
       "mpl.figure.prototype.mouse_event = function (event, name) {\n",
       "    var canvas_pos = mpl.findpos(event);\n",
       "\n",
       "    if (name === 'button_press') {\n",
       "        this.canvas.focus();\n",
       "        this.canvas_div.focus();\n",
       "    }\n",
       "\n",
       "    var x = canvas_pos.x * this.ratio;\n",
       "    var y = canvas_pos.y * this.ratio;\n",
       "\n",
       "    this.send_message(name, {\n",
       "        x: x,\n",
       "        y: y,\n",
       "        button: event.button,\n",
       "        step: event.step,\n",
       "        guiEvent: simpleKeys(event),\n",
       "    });\n",
       "\n",
       "    /* This prevents the web browser from automatically changing to\n",
       "     * the text insertion cursor when the button is pressed.  We want\n",
       "     * to control all of the cursor setting manually through the\n",
       "     * 'cursor' event from matplotlib */\n",
       "    event.preventDefault();\n",
       "    return false;\n",
       "};\n",
       "\n",
       "mpl.figure.prototype._key_event_extra = function (_event, _name) {\n",
       "    // Handle any extra behaviour associated with a key event\n",
       "};\n",
       "\n",
       "mpl.figure.prototype.key_event = function (event, name) {\n",
       "    // Prevent repeat events\n",
       "    if (name === 'key_press') {\n",
       "        if (event.which === this._key) {\n",
       "            return;\n",
       "        } else {\n",
       "            this._key = event.which;\n",
       "        }\n",
       "    }\n",
       "    if (name === 'key_release') {\n",
       "        this._key = null;\n",
       "    }\n",
       "\n",
       "    var value = '';\n",
       "    if (event.ctrlKey && event.which !== 17) {\n",
       "        value += 'ctrl+';\n",
       "    }\n",
       "    if (event.altKey && event.which !== 18) {\n",
       "        value += 'alt+';\n",
       "    }\n",
       "    if (event.shiftKey && event.which !== 16) {\n",
       "        value += 'shift+';\n",
       "    }\n",
       "\n",
       "    value += 'k';\n",
       "    value += event.which.toString();\n",
       "\n",
       "    this._key_event_extra(event, name);\n",
       "\n",
       "    this.send_message(name, { key: value, guiEvent: simpleKeys(event) });\n",
       "    return false;\n",
       "};\n",
       "\n",
       "mpl.figure.prototype.toolbar_button_onclick = function (name) {\n",
       "    if (name === 'download') {\n",
       "        this.handle_save(this, null);\n",
       "    } else {\n",
       "        this.send_message('toolbar_button', { name: name });\n",
       "    }\n",
       "};\n",
       "\n",
       "mpl.figure.prototype.toolbar_button_onmouseover = function (tooltip) {\n",
       "    this.message.textContent = tooltip;\n",
       "};\n",
       "mpl.toolbar_items = [[\"Home\", \"Reset original view\", \"fa fa-home icon-home\", \"home\"], [\"Back\", \"Back to previous view\", \"fa fa-arrow-left icon-arrow-left\", \"back\"], [\"Forward\", \"Forward to next view\", \"fa fa-arrow-right icon-arrow-right\", \"forward\"], [\"\", \"\", \"\", \"\"], [\"Pan\", \"Left button pans, Right button zooms\\nx/y fixes axis, CTRL fixes aspect\", \"fa fa-arrows icon-move\", \"pan\"], [\"Zoom\", \"Zoom to rectangle\\nx/y fixes axis, CTRL fixes aspect\", \"fa fa-square-o icon-check-empty\", \"zoom\"], [\"\", \"\", \"\", \"\"], [\"Download\", \"Download plot\", \"fa fa-floppy-o icon-save\", \"download\"]];\n",
       "\n",
       "mpl.extensions = [\"eps\", \"jpeg\", \"pdf\", \"png\", \"ps\", \"raw\", \"svg\", \"tif\"];\n",
       "\n",
       "mpl.default_extension = \"png\";/* global mpl */\n",
       "\n",
       "var comm_websocket_adapter = function (comm) {\n",
       "    // Create a \"websocket\"-like object which calls the given IPython comm\n",
       "    // object with the appropriate methods. Currently this is a non binary\n",
       "    // socket, so there is still some room for performance tuning.\n",
       "    var ws = {};\n",
       "\n",
       "    ws.close = function () {\n",
       "        comm.close();\n",
       "    };\n",
       "    ws.send = function (m) {\n",
       "        //console.log('sending', m);\n",
       "        comm.send(m);\n",
       "    };\n",
       "    // Register the callback with on_msg.\n",
       "    comm.on_msg(function (msg) {\n",
       "        //console.log('receiving', msg['content']['data'], msg);\n",
       "        // Pass the mpl event to the overridden (by mpl) onmessage function.\n",
       "        ws.onmessage(msg['content']['data']);\n",
       "    });\n",
       "    return ws;\n",
       "};\n",
       "\n",
       "mpl.mpl_figure_comm = function (comm, msg) {\n",
       "    // This is the function which gets called when the mpl process\n",
       "    // starts-up an IPython Comm through the \"matplotlib\" channel.\n",
       "\n",
       "    var id = msg.content.data.id;\n",
       "    // Get hold of the div created by the display call when the Comm\n",
       "    // socket was opened in Python.\n",
       "    var element = document.getElementById(id);\n",
       "    var ws_proxy = comm_websocket_adapter(comm);\n",
       "\n",
       "    function ondownload(figure, _format) {\n",
       "        window.open(figure.canvas.toDataURL());\n",
       "    }\n",
       "\n",
       "    var fig = new mpl.figure(id, ws_proxy, ondownload, element);\n",
       "\n",
       "    // Call onopen now - mpl needs it, as it is assuming we've passed it a real\n",
       "    // web socket which is closed, not our websocket->open comm proxy.\n",
       "    ws_proxy.onopen();\n",
       "\n",
       "    fig.parent_element = element;\n",
       "    fig.cell_info = mpl.find_output_cell(\"<div id='\" + id + \"'></div>\");\n",
       "    if (!fig.cell_info) {\n",
       "        console.error('Failed to find cell for figure', id, fig);\n",
       "        return;\n",
       "    }\n",
       "    fig.cell_info[0].output_area.element.one(\n",
       "        'cleared',\n",
       "        { fig: fig },\n",
       "        fig._remove_fig_handler\n",
       "    );\n",
       "};\n",
       "\n",
       "mpl.figure.prototype.handle_close = function (fig, msg) {\n",
       "    var width = fig.canvas.width / fig.ratio;\n",
       "    fig.cell_info[0].output_area.element.off(\n",
       "        'cleared',\n",
       "        fig._remove_fig_handler\n",
       "    );\n",
       "\n",
       "    // Update the output cell to use the data from the current canvas.\n",
       "    fig.push_to_output();\n",
       "    var dataURL = fig.canvas.toDataURL();\n",
       "    // Re-enable the keyboard manager in IPython - without this line, in FF,\n",
       "    // the notebook keyboard shortcuts fail.\n",
       "    IPython.keyboard_manager.enable();\n",
       "    fig.parent_element.innerHTML =\n",
       "        '<img src=\"' + dataURL + '\" width=\"' + width + '\">';\n",
       "    fig.close_ws(fig, msg);\n",
       "};\n",
       "\n",
       "mpl.figure.prototype.close_ws = function (fig, msg) {\n",
       "    fig.send_message('closing', msg);\n",
       "    // fig.ws.close()\n",
       "};\n",
       "\n",
       "mpl.figure.prototype.push_to_output = function (_remove_interactive) {\n",
       "    // Turn the data on the canvas into data in the output cell.\n",
       "    var width = this.canvas.width / this.ratio;\n",
       "    var dataURL = this.canvas.toDataURL();\n",
       "    this.cell_info[1]['text/html'] =\n",
       "        '<img src=\"' + dataURL + '\" width=\"' + width + '\">';\n",
       "};\n",
       "\n",
       "mpl.figure.prototype.updated_canvas_event = function () {\n",
       "    // Tell IPython that the notebook contents must change.\n",
       "    IPython.notebook.set_dirty(true);\n",
       "    this.send_message('ack', {});\n",
       "    var fig = this;\n",
       "    // Wait a second, then push the new image to the DOM so\n",
       "    // that it is saved nicely (might be nice to debounce this).\n",
       "    setTimeout(function () {\n",
       "        fig.push_to_output();\n",
       "    }, 1000);\n",
       "};\n",
       "\n",
       "mpl.figure.prototype._init_toolbar = function () {\n",
       "    var fig = this;\n",
       "\n",
       "    var toolbar = document.createElement('div');\n",
       "    toolbar.classList = 'btn-toolbar';\n",
       "    this.root.appendChild(toolbar);\n",
       "\n",
       "    function on_click_closure(name) {\n",
       "        return function (_event) {\n",
       "            return fig.toolbar_button_onclick(name);\n",
       "        };\n",
       "    }\n",
       "\n",
       "    function on_mouseover_closure(tooltip) {\n",
       "        return function (event) {\n",
       "            if (!event.currentTarget.disabled) {\n",
       "                return fig.toolbar_button_onmouseover(tooltip);\n",
       "            }\n",
       "        };\n",
       "    }\n",
       "\n",
       "    fig.buttons = {};\n",
       "    var buttonGroup = document.createElement('div');\n",
       "    buttonGroup.classList = 'btn-group';\n",
       "    var button;\n",
       "    for (var toolbar_ind in mpl.toolbar_items) {\n",
       "        var name = mpl.toolbar_items[toolbar_ind][0];\n",
       "        var tooltip = mpl.toolbar_items[toolbar_ind][1];\n",
       "        var image = mpl.toolbar_items[toolbar_ind][2];\n",
       "        var method_name = mpl.toolbar_items[toolbar_ind][3];\n",
       "\n",
       "        if (!name) {\n",
       "            /* Instead of a spacer, we start a new button group. */\n",
       "            if (buttonGroup.hasChildNodes()) {\n",
       "                toolbar.appendChild(buttonGroup);\n",
       "            }\n",
       "            buttonGroup = document.createElement('div');\n",
       "            buttonGroup.classList = 'btn-group';\n",
       "            continue;\n",
       "        }\n",
       "\n",
       "        button = fig.buttons[name] = document.createElement('button');\n",
       "        button.classList = 'btn btn-default';\n",
       "        button.href = '#';\n",
       "        button.title = name;\n",
       "        button.innerHTML = '<i class=\"fa ' + image + ' fa-lg\"></i>';\n",
       "        button.addEventListener('click', on_click_closure(method_name));\n",
       "        button.addEventListener('mouseover', on_mouseover_closure(tooltip));\n",
       "        buttonGroup.appendChild(button);\n",
       "    }\n",
       "\n",
       "    if (buttonGroup.hasChildNodes()) {\n",
       "        toolbar.appendChild(buttonGroup);\n",
       "    }\n",
       "\n",
       "    // Add the status bar.\n",
       "    var status_bar = document.createElement('span');\n",
       "    status_bar.classList = 'mpl-message pull-right';\n",
       "    toolbar.appendChild(status_bar);\n",
       "    this.message = status_bar;\n",
       "\n",
       "    // Add the close button to the window.\n",
       "    var buttongrp = document.createElement('div');\n",
       "    buttongrp.classList = 'btn-group inline pull-right';\n",
       "    button = document.createElement('button');\n",
       "    button.classList = 'btn btn-mini btn-primary';\n",
       "    button.href = '#';\n",
       "    button.title = 'Stop Interaction';\n",
       "    button.innerHTML = '<i class=\"fa fa-power-off icon-remove icon-large\"></i>';\n",
       "    button.addEventListener('click', function (_evt) {\n",
       "        fig.handle_close(fig, {});\n",
       "    });\n",
       "    button.addEventListener(\n",
       "        'mouseover',\n",
       "        on_mouseover_closure('Stop Interaction')\n",
       "    );\n",
       "    buttongrp.appendChild(button);\n",
       "    var titlebar = this.root.querySelector('.ui-dialog-titlebar');\n",
       "    titlebar.insertBefore(buttongrp, titlebar.firstChild);\n",
       "};\n",
       "\n",
       "mpl.figure.prototype._remove_fig_handler = function (event) {\n",
       "    var fig = event.data.fig;\n",
       "    fig.close_ws(fig, {});\n",
       "};\n",
       "\n",
       "mpl.figure.prototype._root_extra_style = function (el) {\n",
       "    el.style.boxSizing = 'content-box'; // override notebook setting of border-box.\n",
       "};\n",
       "\n",
       "mpl.figure.prototype._canvas_extra_style = function (el) {\n",
       "    // this is important to make the div 'focusable\n",
       "    el.setAttribute('tabindex', 0);\n",
       "    // reach out to IPython and tell the keyboard manager to turn it's self\n",
       "    // off when our div gets focus\n",
       "\n",
       "    // location in version 3\n",
       "    if (IPython.notebook.keyboard_manager) {\n",
       "        IPython.notebook.keyboard_manager.register_events(el);\n",
       "    } else {\n",
       "        // location in version 2\n",
       "        IPython.keyboard_manager.register_events(el);\n",
       "    }\n",
       "};\n",
       "\n",
       "mpl.figure.prototype._key_event_extra = function (event, _name) {\n",
       "    var manager = IPython.notebook.keyboard_manager;\n",
       "    if (!manager) {\n",
       "        manager = IPython.keyboard_manager;\n",
       "    }\n",
       "\n",
       "    // Check for shift+enter\n",
       "    if (event.shiftKey && event.which === 13) {\n",
       "        this.canvas_div.blur();\n",
       "        // select the cell after this one\n",
       "        var index = IPython.notebook.find_cell_index(this.cell_info[0]);\n",
       "        IPython.notebook.select(index + 1);\n",
       "    }\n",
       "};\n",
       "\n",
       "mpl.figure.prototype.handle_save = function (fig, _msg) {\n",
       "    fig.ondownload(fig, null);\n",
       "};\n",
       "\n",
       "mpl.find_output_cell = function (html_output) {\n",
       "    // Return the cell and output element which can be found *uniquely* in the notebook.\n",
       "    // Note - this is a bit hacky, but it is done because the \"notebook_saving.Notebook\"\n",
       "    // IPython event is triggered only after the cells have been serialised, which for\n",
       "    // our purposes (turning an active figure into a static one), is too late.\n",
       "    var cells = IPython.notebook.get_cells();\n",
       "    var ncells = cells.length;\n",
       "    for (var i = 0; i < ncells; i++) {\n",
       "        var cell = cells[i];\n",
       "        if (cell.cell_type === 'code') {\n",
       "            for (var j = 0; j < cell.output_area.outputs.length; j++) {\n",
       "                var data = cell.output_area.outputs[j];\n",
       "                if (data.data) {\n",
       "                    // IPython >= 3 moved mimebundle to data attribute of output\n",
       "                    data = data.data;\n",
       "                }\n",
       "                if (data['text/html'] === html_output) {\n",
       "                    return [cell, data, j];\n",
       "                }\n",
       "            }\n",
       "        }\n",
       "    }\n",
       "};\n",
       "\n",
       "// Register the function which deals with the matplotlib target/channel.\n",
       "// The kernel may be null if the page has been refreshed.\n",
       "if (IPython.notebook.kernel !== null) {\n",
       "    IPython.notebook.kernel.comm_manager.register_target(\n",
       "        'matplotlib',\n",
       "        mpl.mpl_figure_comm\n",
       "    );\n",
       "}\n"
      ],
      "text/plain": [
       "<IPython.core.display.Javascript object>"
      ]
     },
     "metadata": {},
     "output_type": "display_data"
    },
    {
     "data": {
      "text/html": [
       "<img src=\"data:image/png;base64,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\" width=\"432\">"
      ],
      "text/plain": [
       "<IPython.core.display.HTML object>"
      ]
     },
     "metadata": {},
     "output_type": "display_data"
    }
   ],
   "source": [
    "# El modo \"notebook\" en lugar de inline permite que los plots sean interactivos\n",
    "%matplotlib notebook\n",
    "# Plot en 3D\n",
    "from mpl_toolkits.mplot3d import Axes3D\n",
    "ax = plt.axes(projection='3d')\n",
    "xgrid, ygrid = np.meshgrid(x, y.ravel())\n",
    "ax.plot_surface(xgrid, ygrid, im, cmap=plt.cm.viridis, cstride=2, rstride=2, linewidth=0);"
   ]
  },
  {
   "cell_type": "markdown",
   "metadata": {
    "id": "jXxrn3eqWYUN"
   },
   "source": [
    "Hay muchísimos tipos de gráficos disponibles. Una forma útila de explorarlos es mirar la [galería de matplotlib](http://matplotlib.org/gallery.html).\n",
    "\n",
    "Puedes probar estos ejemplos fácilmente en el libro de notas: simplemente copia el enlace ``Source Code`` de cada página y pégalo en el libro usando el comando mágico ``%load``.\n",
    "Por ejemplo:"
   ]
  },
  {
   "cell_type": "code",
   "execution_count": null,
   "metadata": {
    "collapsed": true,
    "id": "M9fiOITHWYUN"
   },
   "outputs": [],
   "source": [
    "# %load http://matplotlib.org/mpl_examples/pylab_examples/ellipse_collection.py"
   ]
  }
 ],
 "metadata": {
  "anaconda-cloud": {},
  "colab": {
   "name": "02-herramientas_cientificas_python.ipynb",
   "provenance": []
  },
  "kernelspec": {
   "display_name": "Python 3",
   "language": "python",
   "name": "python3"
  },
  "language_info": {
   "codemirror_mode": {
    "name": "ipython",
    "version": 3
   },
   "file_extension": ".py",
   "mimetype": "text/x-python",
   "name": "python",
   "nbconvert_exporter": "python",
   "pygments_lexer": "ipython3",
   "version": "3.8.5"
  }
 },
 "nbformat": 4,
 "nbformat_minor": 1
}
