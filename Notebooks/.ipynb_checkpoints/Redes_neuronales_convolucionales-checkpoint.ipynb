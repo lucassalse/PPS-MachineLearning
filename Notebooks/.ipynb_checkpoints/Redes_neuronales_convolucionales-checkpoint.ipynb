{
 "cells": [
  {
   "cell_type": "markdown",
   "metadata": {
    "colab_type": "text",
    "id": "FKNAOn5Ia7pG"
   },
   "source": [
    "\n",
    "# Redes neuronales convolucionales\n",
    "[**Python Deep Learning** Introducción práctica con Keras y TensorFlow 2. Jordi Torres. Editorial Marcombo ISBN: 9788426728289 ](https://www.marcombo.com/python-deep-learning-9788426728289/)\n",
    "\n",
    "[**Introduccion Practiva con Keras (primera parte)** Jordi Torres](https://torres.ai/deep-learning-inteligencia-artificial-keras/#Preparar_el_entorno_de_trabajo)\n"
   ]
  },
  {
   "cell_type": "markdown",
   "metadata": {},
   "source": [
    "En esta notebook se implementara un ejemplo de una red neuronal convolucional. Se utilizara un modelo simplificado con un stride de 1 en cada dimensión (tamaño del paso con el que desliza la ventana) y un padding de 0 (relleno de ceros alrededor de la imagen). \n",
    "\n",
    "Primero importamos las librerias necesarias:"
   ]
  },
  {
   "cell_type": "code",
   "execution_count": 1,
   "metadata": {
    "colab": {
     "base_uri": "https://localhost:8080/",
     "height": 52
    },
    "colab_type": "code",
    "id": "VcFrOCQOYU1R",
    "outputId": "a6bc45e9-8843-42e9-a424-5f6e97e6af1f"
   },
   "outputs": [
    {
     "name": "stdout",
     "output_type": "stream",
     "text": [
      "INFO:tensorflow:Enabling eager execution\n",
      "INFO:tensorflow:Enabling v2 tensorshape\n",
      "INFO:tensorflow:Enabling resource variables\n",
      "INFO:tensorflow:Enabling tensor equality\n",
      "INFO:tensorflow:Enabling control flow v2\n",
      "2.6.0-dev20210401\n"
     ]
    }
   ],
   "source": [
    "import tensorflow as tf\n",
    "from tensorflow import keras\n",
    "\n",
    "import numpy as np\n",
    "import matplotlib.pyplot as plt\n",
    "\n",
    "print(tf.__version__)\n"
   ]
  },
  {
   "cell_type": "markdown",
   "metadata": {
    "colab_type": "text",
    "id": "Nx0Q9RkQ1hFX"
   },
   "source": [
    "## Datos digits MNIST"
   ]
  },
  {
   "cell_type": "markdown",
   "metadata": {},
   "source": [
    "Instanciamos el modelo y agregamos las primeras capaz. En este caso se tendra una capa de convolucion seguida de una de max-pooling. En la capa de convolucion tendremos 32 filtros usando una ventana de 5x5, y utilizaremos la funcion de activacion ReLu. En la capa de pooling se tendra una ventana de 2x2.\n",
    "\n",
    "En este caso, estamos configurando una red neuronal convolucional para procesar un tensor de entrada de tamaño (28, 28, 1), que es el tamaño de las imágenes MNIST  (el tercer parámetro es el canal de color que en nuestro caso es 1), y lo especificamos mediante el valor del argumento input_shape=(28, 28,1)  en nuestra primera capa:"
   ]
  },
  {
   "cell_type": "code",
   "execution_count": 2,
   "metadata": {
    "colab": {
     "base_uri": "https://localhost:8080/",
     "height": 225
    },
    "colab_type": "code",
    "id": "EjwjDIuXeS_s",
    "outputId": "8e4b439d-468b-4da0-a54b-8d3d7b9e2e07"
   },
   "outputs": [
    {
     "name": "stdout",
     "output_type": "stream",
     "text": [
      "Model: \"sequential\"\n",
      "_________________________________________________________________\n",
      "Layer (type)                 Output Shape              Param #   \n",
      "=================================================================\n",
      "conv2d (Conv2D)              (None, 24, 24, 32)        832       \n",
      "_________________________________________________________________\n",
      "max_pooling2d (MaxPooling2D) (None, 12, 12, 32)        0         \n",
      "=================================================================\n",
      "Total params: 832\n",
      "Trainable params: 832\n",
      "Non-trainable params: 0\n",
      "_________________________________________________________________\n"
     ]
    }
   ],
   "source": [
    "from tensorflow.keras import Sequential\n",
    "from tensorflow.keras.layers import Conv2D\n",
    "from tensorflow.keras.layers import MaxPooling2D\n",
    "\n",
    "model = Sequential()\n",
    "model.add(Conv2D(32, (5, 5), activation='relu', input_shape=(28, 28, 1)))\n",
    "model.add(MaxPooling2D((2, 2)))\n",
    "model.summary()"
   ]
  },
  {
   "cell_type": "raw",
   "metadata": {},
   "source": []
  },
  {
   "cell_type": "markdown",
   "metadata": {},
   "source": [
    "Con el metodo summary(), podemos ver la arquitectura de nuestro modelo hasta el momento, pudiendo visualizar asi los parametros de cada capa y la dimension de los tensores de salida de cada capa.\n",
    "\n",
    "El número de parámetros de la capa conv2D corresponde a la matriz de pesos W de 5×5 y un sesgo b para cada uno de los filtros es 832 parámetros (32 × (25+1)).  El max-pooling no requiere parámetros puesto que es una operación matemática de encontrar el máximo.\n",
    "\n",
    "Hasta ahora, se tiene un modelo simple, con el fin de construir una red neuronal “deep”, podemos apilar varias capas como la construida en la anterior sección. Para mostrar al lector cómo hacerlo en nuestro ejemplo, crearemos un segundo grupo de capas que tendrá 64 filtros con una ventana de 5×5 en la capa convolucional y una de 2×2 en la capa de pooling. En este caso, el número de canales de entrada tomará el valor de las 32 características que hemos obtenido de la capa anterior, esto no hace falta especificarlo porque Keras lo deduce:\n"
   ]
  },
  {
   "cell_type": "code",
   "execution_count": 4,
   "metadata": {
    "colab": {
     "base_uri": "https://localhost:8080/",
     "height": 294
    },
    "colab_type": "code",
    "id": "Z7SShiqCGM8g",
    "outputId": "ea689113-befb-4bec-efd3-3f7298b52b21"
   },
   "outputs": [
    {
     "name": "stdout",
     "output_type": "stream",
     "text": [
      "Model: \"sequential_1\"\n",
      "_________________________________________________________________\n",
      "Layer (type)                 Output Shape              Param #   \n",
      "=================================================================\n",
      "conv2d_1 (Conv2D)            (None, 24, 24, 32)        832       \n",
      "_________________________________________________________________\n",
      "max_pooling2d_1 (MaxPooling2 (None, 12, 12, 32)        0         \n",
      "_________________________________________________________________\n",
      "conv2d_2 (Conv2D)            (None, 8, 8, 64)          51264     \n",
      "_________________________________________________________________\n",
      "max_pooling2d_2 (MaxPooling2 (None, 4, 4, 64)          0         \n",
      "=================================================================\n",
      "Total params: 52,096\n",
      "Trainable params: 52,096\n",
      "Non-trainable params: 0\n",
      "_________________________________________________________________\n"
     ]
    }
   ],
   "source": [
    "\n",
    "model = Sequential()\n",
    "model.add(Conv2D(32, (5, 5), activation='relu', input_shape=(28, 28, 1)))\n",
    "model.add(MaxPooling2D((2, 2)))\n",
    "model.add(Conv2D(64, (5, 5), activation='relu'))\n",
    "model.add(MaxPooling2D((2, 2)))\n",
    "model.summary()"
   ]
  },
  {
   "cell_type": "markdown",
   "metadata": {},
   "source": [
    "En este caso el tamaño de la segunda capa de convolución resultante es de 8×8 dado que ahora partimos de un espacio de entrada de 12×12×32 y una ventana deslizante de 5×5, teniendo en cuenta que tiene un stride de 1. El número de parámetros 51 264 corresponde a que  la segunda capa tendrá 64 filtros,  como hemos especificado en el argumento, con 801 parámetros cada uno (1 corresponde al sesgo, y luego tenemos la matriz W de 5×5 para cada una de las 32 entradas (((5×5×32)+1)×64=51264).\n",
    "\n",
    "El lector puede ver que la salida de las capas Conv2D y  MaxPooling2D es un tensor 3D de forma (height, width, channels). Las dimensiones width y height tienden a reducirse a medida que nos adentramos en las capas ocultas de la red neuronal. El número de kernels/filtros es controlado a través del primer argumento pasado a la capa Conv2D  (habitualmente de tamaño 32 o 64).\n",
    "\n",
    "El siguiente paso, ahora que tenemos 64 filtros de 4×4, consiste en añadir una capa densamente conectada (densely connected layer), que servirá para alimentar una capa final de softmax para hacer la clasificación:\n",
    "\n"
   ]
  },
  {
   "cell_type": "code",
   "execution_count": 5,
   "metadata": {
    "colab": {},
    "colab_type": "code",
    "id": "T-fqZVN9F18n"
   },
   "outputs": [],
   "source": [
    "from tensorflow.keras.layers import Dense\n",
    "from tensorflow.keras.layers import Flatten\n",
    "\n",
    "model.add(Flatten())\n",
    "model.add(Dense(10, activation='softmax'))"
   ]
  },
  {
   "cell_type": "markdown",
   "metadata": {},
   "source": [
    "En este ejemplo que nos ocupa,  recordemos que antes tenemos que ajustar los tensores a la entrada de la capa densa como la softmax, que es un tensor de 1D, mientras que la salida de la anterior es un tensor de 3D; por eso se tiene primero que aplanar el tensor de 3D a uno de 1D. Nuestra salida (4,4,64) se debe aplanar a un vector de (1024) antes de aplicar el Softmax.\n",
    "\n",
    "En este caso, el número de parámetros de la capa softmax es 10 × 1024 +10, con una salida de un vector de 10"
   ]
  },
  {
   "cell_type": "code",
   "execution_count": 6,
   "metadata": {
    "colab": {
     "base_uri": "https://localhost:8080/",
     "height": 363
    },
    "colab_type": "code",
    "id": "vJLHWHNueTZH",
    "outputId": "5d3345be-da8c-4e1f-f587-2d32e246274a"
   },
   "outputs": [
    {
     "name": "stdout",
     "output_type": "stream",
     "text": [
      "Model: \"sequential_1\"\n",
      "_________________________________________________________________\n",
      "Layer (type)                 Output Shape              Param #   \n",
      "=================================================================\n",
      "conv2d_1 (Conv2D)            (None, 24, 24, 32)        832       \n",
      "_________________________________________________________________\n",
      "max_pooling2d_1 (MaxPooling2 (None, 12, 12, 32)        0         \n",
      "_________________________________________________________________\n",
      "conv2d_2 (Conv2D)            (None, 8, 8, 64)          51264     \n",
      "_________________________________________________________________\n",
      "max_pooling2d_2 (MaxPooling2 (None, 4, 4, 64)          0         \n",
      "_________________________________________________________________\n",
      "flatten (Flatten)            (None, 1024)              0         \n",
      "_________________________________________________________________\n",
      "dense (Dense)                (None, 10)                10250     \n",
      "=================================================================\n",
      "Total params: 62,346\n",
      "Trainable params: 62,346\n",
      "Non-trainable params: 0\n",
      "_________________________________________________________________\n"
     ]
    }
   ],
   "source": [
    "model.summary()"
   ]
  },
  {
   "cell_type": "markdown",
   "metadata": {},
   "source": [
    "Observando este resumen, se aprecia fácilmente que en las capas convolucionales es donde se requiere más memoria, y por ende computación para almacenar los datos. En cambio, en la capa densamente conectada de softmax se necesita poco espacio de memoria, pero en comparación se necesitan muchos parámetros para el modelo, que deberán ser aprendidos. Es importante ser consciente de los tamaños de los datos y de los parámetros porque cuando tenemos modelos basados en redes neuronales convolucionales, estos tienen muchas capas, como veremos más adelante, y estos valores pueden dispararse.\n",
    "\n",
    "Una representación más visual de la anterior información se muestra en la siguiente figura, donde vemos una representación gráfica de la forma de los tensores que se pasan entre capas y sus conexiones:"
   ]
  },
  {
   "cell_type": "markdown",
   "metadata": {},
   "source": [
    "# Entrenamiento y evaluación del modelo\n",
    "\n",
    "Una vez definido el modelo de la red neuronal estamos ya en disposición de pasar a entrenar el modelo, es decir, ajustar los parámetros de todas las capas convolucionales.\n",
    "\n",
    "Primero importamos el dataser y cargamos las imagenes de entrenamiento y test con sus respectivas etiquetas.\n",
    "\n",
    "Estas imágenes de MNIST de 28×28 píxeles se representan como una matriz de números cuyos valores van entre [0, 255] de tipo uint8. Es habitual escalar los valores de entrada de las redes neuronales a unos rangos determinados. En este ejemplo los valores de entrada conviene escalarlos a valores de tipo float32 dentro del intervalo [0, 1]. \n",
    "Por otro lado, ademas realizamos un reshape de estos datos para que sean de la dimension adecuada para nuestro modelo, (28,28)->(28,28,1).\n",
    "\n",
    "Posteriormente tambien se utiliza la funcion to_categorical() sobre las etiquetas para codificar las mismas en un el formato one-hot encoding. \n",
    "\n",
    "\n"
   ]
  },
  {
   "cell_type": "code",
   "execution_count": 20,
   "metadata": {
    "colab": {
     "base_uri": "https://localhost:8080/",
     "height": 104
    },
    "colab_type": "code",
    "id": "putRyHXReTb5",
    "outputId": "620a7f31-a1ff-40cd-90ce-1f0022fa1752"
   },
   "outputs": [
    {
     "name": "stdout",
     "output_type": "stream",
     "text": [
      "(60000, 28, 28)\n",
      "(60000,)\n",
      "(60000, 28, 28, 1)\n",
      "(60000, 10)\n"
     ]
    }
   ],
   "source": [
    "from tensorflow.keras.utils import to_categorical\n",
    "\n",
    "mnist = tf.keras.datasets.mnist\n",
    "(train_images, train_labels), (test_images, test_labels) = mnist.load_data()\n",
    "\n",
    "print (train_images.shape)\n",
    "print (train_labels.shape)\n",
    "train_images = train_images.reshape((60000, 28, 28, 1))\n",
    "train_images = train_images.astype('float32') / 255\n",
    "\n",
    "test_images = test_images.reshape((10000, 28, 28, 1))\n",
    "test_images = test_images.astype('float32') / 255\n",
    "\n",
    "train_labels = to_categorical(train_labels)\n",
    "test_labels = to_categorical(test_labels)\n",
    "\n",
    "print (train_images.shape)\n",
    "print (train_labels.shape)\n",
    "\n"
   ]
  },
  {
   "cell_type": "markdown",
   "metadata": {},
   "source": [
    "### Configuración del proceso de aprendizaje\n",
    "\n",
    "Una vez que se tiene el modelo definido, podemos configurar cómo será su proceso de aprendizaje con el método compile( ), con el que podemos especificar algunas propiedades a través de argumentos del método.\n",
    "\n",
    "El primero de estos argumentos es la función de loss que usaremos para evaluar el grado de error entre salidas calculadas y las salidas deseadas de los datos de entrenamiento.  Por otro lado, se especifica un optimizador que, es la manera que tenemos de especificar el algoritmo de optimitzaación que permite a la red neuronal calcular los pesos de los parámetros a partir de los datos de entrada y de la función de loss definida.\n",
    "\n",
    "Y finalmente debemos indicar la métrica que usaremos para monitorizar el proceso de aprendizaje (y prueba) de nuestra red neuronal. En este primer ejemplo solo tendremos en cuenta la accuracy (fracción de imágenes que son correctamente clasificadas). \n",
    "\n",
    "Una vez definido nuestro modelo y configurado su método de aprendizaje, este ya está listo para ser entrenado. Para ello podemos entrenar o “ajustar” el modelo a los datos de entrenamiento de que disponemos invocando al método fit() del modelo.\n",
    "\n",
    "Los dos primeros argumentos hemos indicado los datos con los que entrenaremos el modelo en forma de arrays Numpy. Con el argumento batch_size se indica el número de datos que usaremos para cada actualización de los parámetros del modelo y con epochs estamos indicando el número de veces que usaremos todos los datos en el proceso de aprendizaje.\n",
    "\n",
    "Este método encuentra el valor de los parámetros de la red mediante el algoritmo iterativo de entrenamiento. A grandes rasgos, en cada iteración de este algoritmo, este coge datos de entrenamiento de x_train, los pasa a través de la red neuronal (con los valores que en aquel momento tengan sus parámetros), compara el resultado obtenido con el esperado (indicado en y_train) y calcula la loss para guiar el proceso de ajuste de los parámetros del modelo, que intuitivamente consiste en aplicar el optimizador especificado anteriormente en el método compile() para calcular un nuevo valor de cada uno de los parámetros (pesos y sesgos) del modelo en cada iteración de tal forma de que se reduzca el de la loss.\n",
    "\n",
    "Este es el método que, como veremos, puede llegar a tardar más tiempo y Keras nos permite ver su avance usando el argumento verbose (por defecto, igual a 1), además de indicar una estimación de cuánto tarda cada epoch:\n",
    "\n"
   ]
  },
  {
   "cell_type": "code",
   "execution_count": 7,
   "metadata": {
    "colab": {
     "base_uri": "https://localhost:8080/",
     "height": 242
    },
    "colab_type": "code",
    "id": "8jt2EkwxuQf4",
    "outputId": "bd06002e-fd3b-4856-f8da-53fb3ec700ac"
   },
   "outputs": [
    {
     "name": "stdout",
     "output_type": "stream",
     "text": [
      "Train on 60000 samples\n",
      "Epoch 1/5\n",
      "60000/60000 [==============================] - 4s 59us/sample - loss: 0.9310 - accuracy: 0.7577\n",
      "Epoch 2/5\n",
      "60000/60000 [==============================] - 2s 34us/sample - loss: 0.2706 - accuracy: 0.9194\n",
      "Epoch 3/5\n",
      "60000/60000 [==============================] - 2s 34us/sample - loss: 0.1943 - accuracy: 0.9421\n",
      "Epoch 4/5\n",
      "60000/60000 [==============================] - 2s 34us/sample - loss: 0.1529 - accuracy: 0.9553\n",
      "Epoch 5/5\n",
      "60000/60000 [==============================] - 2s 34us/sample - loss: 0.1284 - accuracy: 0.9626\n",
      "10000/10000 [==============================] - 1s 76us/sample - loss: 0.1070 - accuracy: 0.9700\n",
      "Test accuracy: 0.97\n"
     ]
    }
   ],
   "source": [
    "\n",
    "model.compile(loss='categorical_crossentropy',\n",
    "              optimizer='sgd',\n",
    "              metrics=['accuracy'])\n",
    "\n",
    "model.fit(train_images, train_labels,\n",
    "          batch_size=100,\n",
    "          epochs=5,\n",
    "          verbose=1)\n",
    "\n",
    "test_loss, test_acc = model.evaluate(test_images, test_labels)\n",
    "\n",
    "print('Test accuracy:', test_acc)"
   ]
  },
  {
   "cell_type": "markdown",
   "metadata": {},
   "source": [
    "### Evaluación del modelo\n",
    "En este punto ya se ha entrenado la red neuronal y ahora se puede evaluar cómo se comporta con datos nuevos de prueba (test) con el método evaluate().  Este devuelve dos valores: test_loss y test_acc, que indican cómo de bien o mal se comporta nuestro modelo con datos nuevos que nunca ha visto (que hemos almacenado en x_test y y_test cuando hemos realizado el mnist.load_data( ) ).  De momento fijémonos solo en uno de ellos, la accuracy, que nos está indicando que el modelo que hemos creado tiene una presicion de aproximadamente un 97%.\n",
    "\n",
    "\n",
    "\n"
   ]
  },
  {
   "cell_type": "markdown",
   "metadata": {
    "colab_type": "text",
    "id": "p_6zyoOJ1lHu"
   },
   "source": [
    "## Datos Fashion-MNIST"
   ]
  },
  {
   "cell_type": "markdown",
   "metadata": {},
   "source": [
    "Ahora se utilizaran las capas aprendidas en el ejemplo previo en uno nuevo. \n",
    "Utilizaremos el dataset fashion-MNIST, el cual contiene 10 atrticulos distintos de ropa. Contiene un training set de 60.000 ejemplos y un test set de 10.000 ejemplos. Cada ejemplo es una imagen 28x28, en escala de grises asociada con una etiqueta de 10 clases. \n",
    "Primero, aplicamos el mismo modelo utilizado para el previo dataset y podemos observar que la presiscion obtenida fue de un 85.7% aproximadamente:"
   ]
  },
  {
   "cell_type": "code",
   "execution_count": 7,
   "metadata": {
    "colab": {},
    "colab_type": "code",
    "id": "ybltm0ul14JF"
   },
   "outputs": [
    {
     "name": "stdout",
     "output_type": "stream",
     "text": [
      "Downloading data from https://storage.googleapis.com/tensorflow/tf-keras-datasets/train-labels-idx1-ubyte.gz\n",
      "32768/29515 [=================================] - 0s 2us/step\n",
      "Downloading data from https://storage.googleapis.com/tensorflow/tf-keras-datasets/train-images-idx3-ubyte.gz\n",
      "26427392/26421880 [==============================] - 5s 0us/step\n",
      "Downloading data from https://storage.googleapis.com/tensorflow/tf-keras-datasets/t10k-labels-idx1-ubyte.gz\n",
      "8192/5148 [===============================================] - 0s 0s/step\n",
      "Downloading data from https://storage.googleapis.com/tensorflow/tf-keras-datasets/t10k-images-idx3-ubyte.gz\n",
      "4423680/4422102 [==============================] - 1s 0us/step\n"
     ]
    }
   ],
   "source": [
    "fashion_mnist = keras.datasets.fashion_mnist\n",
    "\n",
    "(train_images, train_labels), (test_images, test_labels) = fashion_mnist.load_data()"
   ]
  },
  {
   "cell_type": "markdown",
   "metadata": {},
   "source": [
    "Creamos un arreglo cuyo elemento i se corresponde con las etiquetas de los datos."
   ]
  },
  {
   "cell_type": "code",
   "execution_count": 9,
   "metadata": {
    "colab": {},
    "colab_type": "code",
    "id": "n6FGwIXd14WJ"
   },
   "outputs": [],
   "source": [
    "class_names = ['T-shirt/top', 'Trouser', 'Pullover', 'Dress', 'Coat', 'Sandal', 'Shirt', 'Sneaker', 'Bag', 'Ankle boot']"
   ]
  },
  {
   "cell_type": "code",
   "execution_count": 10,
   "metadata": {
    "colab": {},
    "colab_type": "code",
    "id": "v6I04A_S14ZE"
   },
   "outputs": [],
   "source": [
    "train_images = train_images.reshape((60000, 28, 28, 1))\n",
    "train_images = train_images.astype('float32') / 255\n",
    "\n",
    "test_images = test_images.reshape((10000, 28, 28, 1))\n",
    "test_images = test_images.astype('float32') / 255"
   ]
  },
  {
   "cell_type": "markdown",
   "metadata": {
    "colab_type": "text",
    "id": "Q6ztRsZotjOJ"
   },
   "source": [
    "Modelo 1: modelo de base basado en el mismo modelo que el usado para el conjunto datos digits MNIST "
   ]
  },
  {
   "cell_type": "code",
   "execution_count": 11,
   "metadata": {
    "colab": {},
    "colab_type": "code",
    "id": "F0Nj5zs-2sQ1"
   },
   "outputs": [],
   "source": [
    "\n",
    "model = Sequential()\n",
    "model.add(Conv2D(32, (5, 5), activation='relu', input_shape=(28, 28, 1)))\n",
    "model.add(MaxPooling2D((2, 2)))\n",
    "model.add(Conv2D(64, (5, 5), activation='relu'))\n",
    "model.add(MaxPooling2D((2, 2)))\n",
    "model.add(Flatten())\n",
    "model.add(Dense(10, activation='softmax'))"
   ]
  },
  {
   "cell_type": "code",
   "execution_count": 12,
   "metadata": {
    "colab": {
     "base_uri": "https://localhost:8080/",
     "height": 363
    },
    "colab_type": "code",
    "id": "sRiC2Hnq2sTr",
    "outputId": "d843407d-982d-4b9d-c188-2fe2df30c344"
   },
   "outputs": [
    {
     "name": "stdout",
     "output_type": "stream",
     "text": [
      "Model: \"sequential_2\"\n",
      "_________________________________________________________________\n",
      "Layer (type)                 Output Shape              Param #   \n",
      "=================================================================\n",
      "conv2d_3 (Conv2D)            (None, 24, 24, 32)        832       \n",
      "_________________________________________________________________\n",
      "max_pooling2d_3 (MaxPooling2 (None, 12, 12, 32)        0         \n",
      "_________________________________________________________________\n",
      "conv2d_4 (Conv2D)            (None, 8, 8, 64)          51264     \n",
      "_________________________________________________________________\n",
      "max_pooling2d_4 (MaxPooling2 (None, 4, 4, 64)          0         \n",
      "_________________________________________________________________\n",
      "flatten_1 (Flatten)          (None, 1024)              0         \n",
      "_________________________________________________________________\n",
      "dense_1 (Dense)              (None, 10)                10250     \n",
      "=================================================================\n",
      "Total params: 62,346\n",
      "Trainable params: 62,346\n",
      "Non-trainable params: 0\n",
      "_________________________________________________________________\n"
     ]
    }
   ],
   "source": [
    "model.summary()"
   ]
  },
  {
   "cell_type": "code",
   "execution_count": 13,
   "metadata": {
    "colab": {
     "base_uri": "https://localhost:8080/",
     "height": 242
    },
    "colab_type": "code",
    "id": "tBDazX0d2sYp",
    "outputId": "7646d9e2-587b-475b-9de8-90f4d33d6d99"
   },
   "outputs": [
    {
     "name": "stdout",
     "output_type": "stream",
     "text": [
      "Epoch 1/5\n",
      "1875/1875 [==============================] - 36s 18ms/step - loss: 1.1949 - accuracy: 0.5846\n",
      "Epoch 2/5\n",
      "1875/1875 [==============================] - 33s 18ms/step - loss: 0.5312 - accuracy: 0.8095\n",
      "Epoch 3/5\n",
      "1875/1875 [==============================] - 33s 18ms/step - loss: 0.4586 - accuracy: 0.8357\n",
      "Epoch 4/5\n",
      "1875/1875 [==============================] - 33s 18ms/step - loss: 0.4229 - accuracy: 0.8498\n",
      "Epoch 5/5\n",
      "1875/1875 [==============================] - 33s 18ms/step - loss: 0.3960 - accuracy: 0.8595\n",
      "313/313 [==============================] - 3s 7ms/step - loss: 0.4095 - accuracy: 0.8573\n",
      "Test accuracy: 0.8572999835014343\n"
     ]
    }
   ],
   "source": [
    "model.compile(optimizer='sgd',\n",
    "              loss='sparse_categorical_crossentropy',\n",
    "              metrics=['accuracy'])\n",
    "\n",
    "model.fit(train_images, train_labels, epochs=5)\n",
    "test_loss, test_acc = model.evaluate(test_images,  test_labels)\n",
    "print('Test accuracy:', test_acc)"
   ]
  },
  {
   "cell_type": "markdown",
   "metadata": {},
   "source": [
    "Realizamos la prediccion del modelo sobre los datos de test:"
   ]
  },
  {
   "cell_type": "code",
   "execution_count": 14,
   "metadata": {
    "colab": {},
    "colab_type": "code",
    "id": "L5XbYrrHKO5E"
   },
   "outputs": [],
   "source": [
    "predictions = model.predict(test_images)"
   ]
  },
  {
   "cell_type": "markdown",
   "metadata": {},
   "source": [
    "Definimos funciones para la realizacion de un ploteo de las imagenes de forma tal que en cada una de estas se pueda observar las probabilidades con las que cada una de estas puede pertenecer a cada una de las etiquetas. "
   ]
  },
  {
   "cell_type": "code",
   "execution_count": 16,
   "metadata": {
    "colab": {},
    "colab_type": "code",
    "id": "TTPAeEl45iNx"
   },
   "outputs": [],
   "source": [
    "def plot_image(i, predictions_array, true_label, img):\n",
    "  predictions_array, true_label, img = predictions_array, true_label[i], img[i]\n",
    "  plt.grid(False)\n",
    "  plt.xticks([])\n",
    "  plt.yticks([])\n",
    "\n",
    "  plt.imshow(img, cmap=plt.cm.binary)    \n",
    "\n",
    "  predicted_label = np.argmax(predictions_array)\n",
    "  if predicted_label == true_label:\n",
    "    color = 'blue'\n",
    "  else:\n",
    "    color = 'red'\n",
    "\n",
    "  plt.xlabel(\"{} {:2.0f}% ({})\".format(class_names[predicted_label],\n",
    "                                100*np.max(predictions_array),\n",
    "                                class_names[true_label]),\n",
    "                                color=color)\n",
    "\n",
    "def plot_value_array(i, predictions_array, true_label):\n",
    "  predictions_array, true_label = predictions_array, true_label[i]\n",
    "  plt.grid(False)\n",
    "  plt.xticks(range(10))\n",
    "  plt.yticks([])\n",
    "  thisplot = plt.bar(range(10), predictions_array, color=\"#00FF00\")\n",
    "  plt.ylim([0, 1])\n",
    "  predicted_label = np.argmax(predictions_array)\n",
    "\n",
    "  thisplot[predicted_label].set_color('red')\n",
    "  thisplot[true_label].set_color('black')"
   ]
  },
  {
   "cell_type": "markdown",
   "metadata": {
    "colab_type": "text",
    "id": "EQZcZ_RH0q45"
   },
   "source": [
    "Volvemos las imagenes a formato original para hacer el plot"
   ]
  },
  {
   "cell_type": "code",
   "execution_count": 17,
   "metadata": {
    "colab": {},
    "colab_type": "code",
    "id": "U6O2NNvyKd6s"
   },
   "outputs": [],
   "source": [
    "train_images = train_images.reshape((60000, 28, 28))\n",
    "test_images = test_images.reshape((10000, 28, 28))"
   ]
  },
  {
   "cell_type": "code",
   "execution_count": 18,
   "metadata": {
    "colab": {
     "base_uri": "https://localhost:8080/",
     "height": 1000
    },
    "colab_type": "code",
    "id": "STCV3LC-57tg",
    "outputId": "3fe307b3-e7fc-443e-e3a9-e7bda50cca43"
   },
   "outputs": [
    {
     "data": {
      "image/png": "[encoded data removed]",
      "text/plain": [
       "<Figure size 576x1008 with 28 Axes>"
      ]
     },
     "metadata": {
      "needs_background": "light"
     },
     "output_type": "display_data"
    }
   ],
   "source": [
    "num_rows = 7\n",
    "num_cols = 2\n",
    "num_images = num_rows*num_cols\n",
    "plt.figure(figsize=(2*2*num_cols, 2*num_rows))\n",
    "for i in range(num_images):\n",
    "  plt.subplot(num_rows, 2*num_cols, 2*i+1)\n",
    "  plot_image(i, predictions[i], test_labels, test_images)\n",
    "  plt.subplot(num_rows, 2*num_cols, 2*i+2)     \n",
    "  plot_value_array(i, predictions[i], test_labels)\n",
    "plt.tight_layout()\n",
    "plt.show()\n",
    "\n"
   ]
  },
  {
   "cell_type": "markdown",
   "metadata": {},
   "source": [
    "Volvemos a cambiar el formato para su utilizacion en un nuevo modelo."
   ]
  },
  {
   "cell_type": "code",
   "execution_count": 20,
   "metadata": {
    "colab": {},
    "colab_type": "code",
    "id": "Z0Y56EnBLQUm"
   },
   "outputs": [],
   "source": [
    "train_images = train_images.reshape((60000, 28, 28, 1))\n",
    "test_images = test_images.reshape((10000, 28, 28, 1))\n"
   ]
  },
  {
   "cell_type": "markdown",
   "metadata": {},
   "source": [
    "Ahora se buscara mejorar la presicion obtenida en nuestro modelo. Para lograr esto podemos intentar aplicar distintos y mejores hiperparametros.\n",
    "Por instancia podemos agregar mas neuronas a nuestro modelo y mas capas."
   ]
  },
  {
   "cell_type": "markdown",
   "metadata": {
    "colab_type": "text",
    "id": "6tV0gHRztcvI"
   },
   "source": [
    "Modelo 2: Duplicando las neuronas de modelo base y añadiendo una capa densa de 64 neuronas"
   ]
  },
  {
   "cell_type": "code",
   "execution_count": 21,
   "metadata": {
    "colab": {},
    "colab_type": "code",
    "id": "5vu0mAps6wNt"
   },
   "outputs": [],
   "source": [
    "\n",
    "model = Sequential()\n",
    "\n",
    "model.add(Conv2D(64, (7, 7), activation=\"relu\", padding=\"same\", input_shape=(28, 28, 1)))\n",
    "model.add(MaxPooling2D(2, 2))\n",
    "model.add(Conv2D(128, (3, 3), activation=\"relu\", padding=\"same\"))\n",
    "model.add(MaxPooling2D(2, 2))\n",
    "model.add(Flatten())\n",
    "model.add(Dense(64, activation=\"relu\"))\n",
    "model.add(Dense(10, activation=\"softmax\"))\n",
    "\n"
   ]
  },
  {
   "cell_type": "code",
   "execution_count": 22,
   "metadata": {
    "colab": {
     "base_uri": "https://localhost:8080/",
     "height": 259
    },
    "colab_type": "code",
    "id": "G1qOIHnyL_Te",
    "outputId": "1b90ca23-7cf2-4998-a50e-f3cb5e80983d"
   },
   "outputs": [
    {
     "name": "stdout",
     "output_type": "stream",
     "text": [
      "Epoch 1/5\n",
      "1875/1875 [==============================] - 95s 50ms/step - loss: 1.0945 - accuracy: 0.6143\n",
      "Epoch 2/5\n",
      "1875/1875 [==============================] - 96s 51ms/step - loss: 0.5200 - accuracy: 0.8106\n",
      "Epoch 3/5\n",
      "1875/1875 [==============================] - 99s 53ms/step - loss: 0.4376 - accuracy: 0.8435\n",
      "Epoch 4/5\n",
      "1875/1875 [==============================] - 99s 53ms/step - loss: 0.3930 - accuracy: 0.8580\n",
      "Epoch 5/5\n",
      "1875/1875 [==============================] - 101s 54ms/step - loss: 0.3694 - accuracy: 0.8671\n",
      "313/313 [==============================] - 6s 18ms/step - loss: 0.3730 - accuracy: 0.8675\n",
      "\n",
      "Test accuracy: 0.8675000071525574\n"
     ]
    }
   ],
   "source": [
    "\n",
    "model.compile(optimizer='sgd',\n",
    "              loss='sparse_categorical_crossentropy',\n",
    "              metrics=['accuracy'])\n",
    "\n",
    "model.fit(train_images, train_labels, epochs=5)\n",
    "\n",
    "test_loss, test_acc = model.evaluate(test_images,  test_labels)\n",
    "print('\\nTest accuracy:', test_acc)"
   ]
  },
  {
   "cell_type": "markdown",
   "metadata": {},
   "source": [
    "Como puede observarse, la presicion obtenida ahora fue de 86,75% aproximadamente.\n",
    "Para mejorar esta aun mas, se utilizara un optimizador distinto:"
   ]
  },
  {
   "cell_type": "markdown",
   "metadata": {
    "colab_type": "text",
    "id": "ZEyd3lnut9In"
   },
   "source": [
    "Modelo 3: cambiando al optimizador 'adam'"
   ]
  },
  {
   "cell_type": "code",
   "execution_count": 23,
   "metadata": {
    "colab": {
     "base_uri": "https://localhost:8080/",
     "height": 259
    },
    "colab_type": "code",
    "id": "UR6POPWWMAoU",
    "outputId": "42e458be-f3e9-4059-e2b5-09927fd1d959"
   },
   "outputs": [
    {
     "name": "stdout",
     "output_type": "stream",
     "text": [
      "Epoch 1/5\n",
      "1875/1875 [==============================] - 94s 50ms/step - loss: 0.5812 - accuracy: 0.7875\n",
      "Epoch 2/5\n",
      "1875/1875 [==============================] - 93s 49ms/step - loss: 0.2783 - accuracy: 0.8989\n",
      "Epoch 3/5\n",
      "1875/1875 [==============================] - 100s 53ms/step - loss: 0.2258 - accuracy: 0.9172\n",
      "Epoch 4/5\n",
      "1875/1875 [==============================] - 100s 53ms/step - loss: 0.1909 - accuracy: 0.9287s - loss:\n",
      "Epoch 5/5\n",
      "1875/1875 [==============================] - 109s 58ms/step - loss: 0.1691 - accuracy: 0.9357\n",
      "313/313 [==============================] - 6s 18ms/step - loss: 0.2460 - accuracy: 0.9124\n",
      "\n",
      "Test accuracy: 0.9124000072479248\n"
     ]
    }
   ],
   "source": [
    "model = Sequential()\n",
    "\n",
    "model.add(Conv2D(64, (7, 7), activation=\"relu\", padding=\"same\", input_shape=(28, 28, 1)))\n",
    "model.add(MaxPooling2D(2, 2))\n",
    "model.add(Conv2D(128, (3, 3), activation=\"relu\", padding=\"same\"))\n",
    "model.add(MaxPooling2D(2, 2))\n",
    "model.add(Flatten())\n",
    "model.add(Dense(64, activation=\"relu\"))\n",
    "model.add(Dense(10, activation=\"softmax\"))\n",
    "\n",
    "model.compile(optimizer='adam',\n",
    "              loss='sparse_categorical_crossentropy',\n",
    "              metrics=['accuracy'])\n",
    "\n",
    "model.fit(train_images, train_labels, epochs=5)\n",
    "\n",
    "test_loss, test_acc = model.evaluate(test_images,  test_labels)\n",
    "print('\\nTest accuracy:', test_acc)"
   ]
  },
  {
   "cell_type": "markdown",
   "metadata": {
    "colab": {},
    "colab_type": "code",
    "id": "iBLBezVui5X1"
   },
   "source": [
    "Al entrenar nuevamente nuestro modelo utilizando este cambio, podemos ver que la presicion aumento hasta llegar a 91,24% aproximadamente.\n",
    "\n",
    "Y esto puede mejorar aun mas al agregar nuevas capas no utilizadas previamente, estas son las de Batch Normalization y de Dropout."
   ]
  },
  {
   "cell_type": "markdown",
   "metadata": {
    "colab_type": "text",
    "id": "kogvBWoruYhp"
   },
   "source": [
    "Modelo 4: Buscando un modelo más complejo que usa capas BathNormalization y Dropout"
   ]
  },
  {
   "cell_type": "code",
   "execution_count": 24,
   "metadata": {
    "colab": {},
    "colab_type": "code",
    "id": "K_bynmW9liwR"
   },
   "outputs": [],
   "source": [
    "from tensorflow.keras.layers import Dropout, BatchNormalization\n",
    "\n",
    "\n",
    "def make_model():\n",
    "  model = Sequential()\n",
    "  model.add(Conv2D(filters=32, kernel_size=(3, 3), activation='relu', strides=1, padding='same', input_shape=(28,28,1)))\n",
    "  model.add(BatchNormalization())\n",
    "\n",
    "  model.add(Conv2D(filters=32, kernel_size=(3, 3), activation='relu', strides=1, padding='same'))\n",
    "  model.add(BatchNormalization())\n",
    "  model.add(Dropout(0.25))\n",
    "\n",
    "  model.add(Conv2D(filters=64, kernel_size=(3, 3), activation='relu', strides=1, padding='same'))\n",
    "  model.add(MaxPooling2D(pool_size=(2, 2)))\n",
    "  model.add(Dropout(0.25))\n",
    "    \n",
    "  model.add(Conv2D(filters=128, kernel_size=(3, 3), activation='relu', strides=1, padding='same'))\n",
    "  model.add(BatchNormalization())\n",
    "  model.add(Dropout(0.25))\n",
    "\n",
    "  model.add(Flatten())\n",
    "  model.add(Dense(512, activation='relu'))\n",
    "  model.add(BatchNormalization())\n",
    "  model.add(Dropout(0.5))\n",
    "  model.add(Dense(128, activation='relu'))\n",
    "  model.add(BatchNormalization())\n",
    "  model.add(Dropout(0.5))\n",
    "  model.add(Dense(10, activation='softmax'))\n",
    "  return model\n",
    "\n"
   ]
  },
  {
   "cell_type": "code",
   "execution_count": 25,
   "metadata": {
    "colab": {
     "base_uri": "https://localhost:8080/",
     "height": 259
    },
    "colab_type": "code",
    "id": "UMVtk4yqmk5k",
    "outputId": "6590908a-fee8-448b-a246-7051f228e6bd"
   },
   "outputs": [
    {
     "name": "stdout",
     "output_type": "stream",
     "text": [
      "Epoch 1/5\n",
      "1875/1875 [==============================] - 403s 213ms/step - loss: 0.6830 - accuracy: 0.7720\n",
      "Epoch 2/5\n",
      "1875/1875 [==============================] - 429s 229ms/step - loss: 0.3428 - accuracy: 0.8792\n",
      "Epoch 3/5\n",
      "1875/1875 [==============================] - 472s 252ms/step - loss: 0.2798 - accuracy: 0.8998\n",
      "Epoch 4/5\n",
      "1875/1875 [==============================] - 485s 259ms/step - loss: 0.2499 - accuracy: 0.9123\n",
      "Epoch 5/5\n",
      "1875/1875 [==============================] - 518s 276ms/step - loss: 0.2230 - accuracy: 0.9204\n",
      "313/313 [==============================] - 18s 56ms/step - loss: 0.2176 - accuracy: 0.9219\n",
      "\n",
      "Test accuracy: 0.9218999743461609\n"
     ]
    }
   ],
   "source": [
    "model = make_model()\n",
    "model.compile(optimizer='adam',\n",
    "              loss='sparse_categorical_crossentropy',\n",
    "              metrics=['accuracy'])\n",
    "\n",
    "model.fit(train_images, train_labels, epochs=5)\n",
    "\n",
    "test_loss, test_acc = model.evaluate(test_images,  test_labels)\n",
    "print('\\nTest accuracy:', test_acc)"
   ]
  },
  {
   "cell_type": "markdown",
   "metadata": {},
   "source": [
    "Como puede observarse, la presicion aumento a 92,18%.\n",
    "\n",
    "Como veremos en el ejemplo siguiente, otra forma de aumentar el nivel de presicion es añadir mas epochs en el entrenamiento del modelo:"
   ]
  },
  {
   "cell_type": "markdown",
   "metadata": {
    "colab_type": "text",
    "id": "JYQg0a86yVOi"
   },
   "source": [
    "Modelo 5: Modelo anterior añadiendo más epochs (10 epochs)"
   ]
  },
  {
   "cell_type": "code",
   "execution_count": 26,
   "metadata": {
    "colab": {
     "base_uri": "https://localhost:8080/",
     "height": 432
    },
    "colab_type": "code",
    "id": "yTh4OaK6yOEx",
    "outputId": "6f9a4d03-4550-42b4-98c1-ba579a765057"
   },
   "outputs": [
    {
     "name": "stdout",
     "output_type": "stream",
     "text": [
      "Epoch 1/10\n",
      "1875/1875 [==============================] - 392s 208ms/step - loss: 0.6975 - accuracy: 0.7655\n",
      "Epoch 2/10\n",
      "1875/1875 [==============================] - 397s 212ms/step - loss: 0.3409 - accuracy: 0.8803\n",
      "Epoch 3/10\n",
      "1875/1875 [==============================] - 398s 212ms/step - loss: 0.2820 - accuracy: 0.9011\n",
      "Epoch 4/10\n",
      "1875/1875 [==============================] - 398s 212ms/step - loss: 0.2452 - accuracy: 0.9135\n",
      "Epoch 5/10\n",
      "1875/1875 [==============================] - 396s 211ms/step - loss: 0.2306 - accuracy: 0.9174\n",
      "Epoch 6/10\n",
      "1875/1875 [==============================] - 1119s 597ms/step - loss: 0.2065 - accuracy: 0.9271\n",
      "Epoch 7/10\n",
      "1875/1875 [==============================] - 555s 296ms/step - loss: 0.1852 - accuracy: 0.9354\n",
      "Epoch 8/10\n",
      "1875/1875 [==============================] - 401s 214ms/step - loss: 0.1656 - accuracy: 0.9414\n",
      "Epoch 9/10\n",
      "1875/1875 [==============================] - 437s 233ms/step - loss: 0.1561 - accuracy: 0.9450\n",
      "Epoch 10/10\n",
      "1875/1875 [==============================] - 527s 281ms/step - loss: 0.1463 - accuracy: 0.9488\n",
      "313/313 [==============================] - 21s 64ms/step - loss: 0.2033 - accuracy: 0.9306\n",
      "\n",
      "Test accuracy: 0.9305999875068665\n"
     ]
    }
   ],
   "source": [
    "\n",
    "model = make_model()\n",
    "\n",
    "\n",
    "model.compile(optimizer='adam',\n",
    "              loss='sparse_categorical_crossentropy',\n",
    "              metrics=['accuracy'])\n",
    "\n",
    "model.fit(train_images, train_labels, epochs=10)\n",
    "test_loss, test_acc = model.evaluate(test_images,  test_labels)\n",
    "\n",
    "print('\\nTest accuracy:', test_acc)"
   ]
  },
  {
   "cell_type": "markdown",
   "metadata": {},
   "source": [
    "Al duplicar la cantidad de epoch se llego a una presicion de 93,05%.\n"
   ]
  },
  {
   "cell_type": "markdown",
   "metadata": {
    "colab_type": "text",
    "id": "YpJwKcAgGGhq"
   },
   "source": [
    "Modelo 6: Modelo anterior añadiendo más epochs (30 epochs)"
   ]
  },
  {
   "cell_type": "code",
   "execution_count": 33,
   "metadata": {
    "colab": {
     "base_uri": "https://localhost:8080/",
     "height": 1000
    },
    "colab_type": "code",
    "id": "1ZDDas7oF97f",
    "outputId": "19bbd615-097a-4084-80fb-6c76c10aaf4a"
   },
   "outputs": [
    {
     "name": "stdout",
     "output_type": "stream",
     "text": [
      "Train on 60000 samples\n",
      "Epoch 1/30\n",
      "60000/60000 [==============================] - 14s 226us/sample - loss: 0.5218 - accuracy: 0.8189\n",
      "Epoch 2/30\n",
      "60000/60000 [==============================] - 13s 213us/sample - loss: 0.3229 - accuracy: 0.8865\n",
      "Epoch 3/30\n",
      "60000/60000 [==============================] - 13s 212us/sample - loss: 0.2865 - accuracy: 0.8982\n",
      "Epoch 4/30\n",
      "60000/60000 [==============================] - 13s 213us/sample - loss: 0.2493 - accuracy: 0.9110\n",
      "Epoch 5/30\n",
      "60000/60000 [==============================] - 13s 216us/sample - loss: 0.2243 - accuracy: 0.9214\n",
      "Epoch 6/30\n",
      "60000/60000 [==============================] - 13s 213us/sample - loss: 0.2036 - accuracy: 0.9283\n",
      "Epoch 7/30\n",
      "60000/60000 [==============================] - 13s 211us/sample - loss: 0.1881 - accuracy: 0.9330\n",
      "Epoch 8/30\n",
      "60000/60000 [==============================] - 13s 212us/sample - loss: 0.1695 - accuracy: 0.9391\n",
      "Epoch 9/30\n",
      "60000/60000 [==============================] - 13s 212us/sample - loss: 0.1597 - accuracy: 0.9418\n",
      "Epoch 10/30\n",
      "60000/60000 [==============================] - 13s 213us/sample - loss: 0.1473 - accuracy: 0.9470\n",
      "Epoch 11/30\n",
      "60000/60000 [==============================] - 13s 214us/sample - loss: 0.1343 - accuracy: 0.9514\n",
      "Epoch 12/30\n",
      "60000/60000 [==============================] - 13s 212us/sample - loss: 0.1299 - accuracy: 0.9540\n",
      "Epoch 13/30\n",
      "60000/60000 [==============================] - 13s 212us/sample - loss: 0.1206 - accuracy: 0.9570\n",
      "Epoch 14/30\n",
      "60000/60000 [==============================] - 13s 213us/sample - loss: 0.1120 - accuracy: 0.9597\n",
      "Epoch 15/30\n",
      "60000/60000 [==============================] - 13s 213us/sample - loss: 0.1075 - accuracy: 0.9616\n",
      "Epoch 16/30\n",
      "60000/60000 [==============================] - 13s 213us/sample - loss: 0.0953 - accuracy: 0.9656\n",
      "Epoch 17/30\n",
      "60000/60000 [==============================] - 13s 212us/sample - loss: 0.0941 - accuracy: 0.9671\n",
      "Epoch 18/30\n",
      "60000/60000 [==============================] - 13s 213us/sample - loss: 0.0882 - accuracy: 0.9689\n",
      "Epoch 19/30\n",
      "60000/60000 [==============================] - 13s 212us/sample - loss: 0.0884 - accuracy: 0.9689\n",
      "Epoch 20/30\n",
      "60000/60000 [==============================] - 13s 213us/sample - loss: 0.0784 - accuracy: 0.9722\n",
      "Epoch 21/30\n",
      "60000/60000 [==============================] - 13s 213us/sample - loss: 0.0821 - accuracy: 0.9706\n",
      "Epoch 22/30\n",
      "60000/60000 [==============================] - 13s 212us/sample - loss: 0.0744 - accuracy: 0.9742\n",
      "Epoch 23/30\n",
      "60000/60000 [==============================] - 13s 214us/sample - loss: 0.0765 - accuracy: 0.9731\n",
      "Epoch 24/30\n",
      "60000/60000 [==============================] - 13s 216us/sample - loss: 0.0715 - accuracy: 0.9748\n",
      "Epoch 25/30\n",
      "60000/60000 [==============================] - 13s 213us/sample - loss: 0.0656 - accuracy: 0.9770\n",
      "Epoch 26/30\n",
      "60000/60000 [==============================] - 13s 212us/sample - loss: 0.0679 - accuracy: 0.9758\n",
      "Epoch 27/30\n",
      "60000/60000 [==============================] - 13s 210us/sample - loss: 0.0597 - accuracy: 0.9794\n",
      "Epoch 28/30\n",
      "60000/60000 [==============================] - 13s 212us/sample - loss: 0.0562 - accuracy: 0.9804\n",
      "Epoch 29/30\n",
      "60000/60000 [==============================] - 13s 213us/sample - loss: 0.0556 - accuracy: 0.9804\n",
      "Epoch 30/30\n",
      "60000/60000 [==============================] - 13s 213us/sample - loss: 0.0548 - accuracy: 0.9800\n",
      "10000/10000 [==============================] - 1s 108us/sample - loss: 0.2281 - accuracy: 0.9396\n",
      "\n",
      "Test accuracy: 0.9396\n"
     ]
    }
   ],
   "source": [
    "\n",
    "model = make_model()\n",
    "\n",
    "model.compile(optimizer='adam',\n",
    "              loss='sparse_categorical_crossentropy',\n",
    "              metrics=['accuracy'])\n",
    "\n",
    "model.fit(train_images, train_labels, epochs=30)\n",
    "test_loss, test_acc = model.evaluate(test_images,  test_labels)\n",
    "\n",
    "print('\\nTest accuracy:', test_acc)"
   ]
  },
  {
   "cell_type": "markdown",
   "metadata": {
    "colab_type": "text",
    "id": "-NUPmba5zFcV"
   },
   "source": [
    "Modelo 7: Modelo anterior añadiendo más epochs (30 epochs) y diferentes hiperparámetros al optimizador Adam"
   ]
  },
  {
   "cell_type": "markdown",
   "metadata": {},
   "source": [
    "En este modelo se aplica modifica la funcion del scheduler de la taza de aprendizaje del optimizador. Esta funcion es llamada al comienzo de cada epoch, adaptando esta taza. De esta forma, la misma se ira reduciendo gradualmente.\n",
    "\n",
    "La taza de aprendizaje controla que tan rapido el modelo se adapta al problema. Al comienzo del entrenamiento se realizan cambios de mayor magnitud de forma tal que una taza mas grande se adapta mejor a esta situacion. Con el paso de los epochs, es menor la magnitud de los cambios que realiza el modelo, de forma tal que adaptar el learning rate a un valor mas chico ayuda tambien a que se adapte a esta situacion, lo cual produce que el modelo finalmente converja de forma optima.\n",
    "\n",
    "\n",
    "# Revisar como redactar esto "
   ]
  },
  {
   "cell_type": "code",
   "execution_count": 26,
   "metadata": {
    "colab": {
     "base_uri": "https://localhost:8080/",
     "height": 1000
    },
    "colab_type": "code",
    "id": "oWms_Gu7nQxv",
    "outputId": "921a8ce4-4ccf-4c7c-df4b-62764e4cc175"
   },
   "outputs": [
    {
     "name": "stdout",
     "output_type": "stream",
     "text": [
      "Train on 60000 samples\n",
      "Epoch 1/30\n",
      "60000/60000 [==============================] - 14s 228us/sample - loss: 0.5048 - accuracy: 0.8254\n",
      "Epoch 2/30\n",
      "60000/60000 [==============================] - 13s 210us/sample - loss: 0.3187 - accuracy: 0.8865\n",
      "Epoch 3/30\n",
      "60000/60000 [==============================] - 13s 212us/sample - loss: 0.2693 - accuracy: 0.9048\n",
      "Epoch 4/30\n",
      "60000/60000 [==============================] - 13s 211us/sample - loss: 0.2380 - accuracy: 0.9158\n",
      "Epoch 5/30\n",
      "60000/60000 [==============================] - 13s 211us/sample - loss: 0.2110 - accuracy: 0.9270\n",
      "Epoch 6/30\n",
      "60000/60000 [==============================] - 13s 213us/sample - loss: 0.1849 - accuracy: 0.9345\n",
      "Epoch 7/30\n",
      "60000/60000 [==============================] - 13s 210us/sample - loss: 0.1672 - accuracy: 0.9411\n",
      "Epoch 8/30\n",
      "60000/60000 [==============================] - 13s 211us/sample - loss: 0.1503 - accuracy: 0.9476\n",
      "Epoch 9/30\n",
      "60000/60000 [==============================] - 13s 210us/sample - loss: 0.1367 - accuracy: 0.9514\n",
      "Epoch 10/30\n",
      "60000/60000 [==============================] - 13s 210us/sample - loss: 0.1217 - accuracy: 0.9566\n",
      "Epoch 11/30\n",
      "60000/60000 [==============================] - 13s 215us/sample - loss: 0.1076 - accuracy: 0.9617\n",
      "Epoch 12/30\n",
      "60000/60000 [==============================] - 13s 214us/sample - loss: 0.1019 - accuracy: 0.9639\n",
      "Epoch 13/30\n",
      "60000/60000 [==============================] - 13s 212us/sample - loss: 0.0865 - accuracy: 0.9694\n",
      "Epoch 14/30\n",
      "60000/60000 [==============================] - 13s 210us/sample - loss: 0.0820 - accuracy: 0.9709\n",
      "Epoch 15/30\n",
      "60000/60000 [==============================] - 13s 211us/sample - loss: 0.0748 - accuracy: 0.9736\n",
      "Epoch 16/30\n",
      "60000/60000 [==============================] - 13s 211us/sample - loss: 0.0673 - accuracy: 0.9762\n",
      "Epoch 17/30\n",
      "60000/60000 [==============================] - 13s 212us/sample - loss: 0.0629 - accuracy: 0.9777\n",
      "Epoch 18/30\n",
      "60000/60000 [==============================] - 13s 213us/sample - loss: 0.0566 - accuracy: 0.9797\n",
      "Epoch 19/30\n",
      "60000/60000 [==============================] - 13s 212us/sample - loss: 0.0519 - accuracy: 0.9819\n",
      "Epoch 20/30\n",
      "60000/60000 [==============================] - 13s 210us/sample - loss: 0.0485 - accuracy: 0.9829\n",
      "Epoch 21/30\n",
      "60000/60000 [==============================] - 13s 211us/sample - loss: 0.0478 - accuracy: 0.9835\n",
      "Epoch 22/30\n",
      "60000/60000 [==============================] - 13s 211us/sample - loss: 0.0440 - accuracy: 0.9845\n",
      "Epoch 23/30\n",
      "60000/60000 [==============================] - 13s 211us/sample - loss: 0.0435 - accuracy: 0.9851\n",
      "Epoch 24/30\n",
      "60000/60000 [==============================] - 13s 210us/sample - loss: 0.0408 - accuracy: 0.9859\n",
      "Epoch 25/30\n",
      "60000/60000 [==============================] - 13s 210us/sample - loss: 0.0407 - accuracy: 0.9859\n",
      "Epoch 26/30\n",
      "60000/60000 [==============================] - 13s 210us/sample - loss: 0.0361 - accuracy: 0.9876\n",
      "Epoch 27/30\n",
      "60000/60000 [==============================] - 13s 210us/sample - loss: 0.0335 - accuracy: 0.9887\n",
      "Epoch 28/30\n",
      "60000/60000 [==============================] - 13s 211us/sample - loss: 0.0345 - accuracy: 0.9878\n",
      "Epoch 29/30\n",
      "60000/60000 [==============================] - 13s 210us/sample - loss: 0.0317 - accuracy: 0.9891\n",
      "Epoch 30/30\n",
      "60000/60000 [==============================] - 13s 211us/sample - loss: 0.0322 - accuracy: 0.9886\n",
      "10000/10000 [==============================] - 1s 108us/sample - loss: 0.2333 - accuracy: 0.9454\n",
      "\n",
      "Test accuracy: 0.9454\n"
     ]
    }
   ],
   "source": [
    "model = make_model()\n",
    "\n",
    "optimizer = tf.keras.optimizers.Adam (lr=0.001)\n",
    "\n",
    "model.compile(optimizer=optimizer,\n",
    "              loss='sparse_categorical_crossentropy',\n",
    "              metrics=['accuracy'])\n",
    "\n",
    "reduce_lr = tf.keras.callbacks.LearningRateScheduler(lambda x: 1e-3 * 0.9 ** x)\n",
    "\n",
    "model.fit(train_images, train_labels, epochs=30, callbacks=[reduce_lr])\n",
    "\n",
    "test_loss, test_acc = model.evaluate(test_images,  test_labels)\n",
    "print('\\nTest accuracy:', test_acc)"
   ]
  },
  {
   "cell_type": "markdown",
   "metadata": {
    "colab_type": "text",
    "id": "-HtzExwn2u9U"
   },
   "source": [
    "Visualización de las predicciones del modelo 7"
   ]
  },
  {
   "cell_type": "code",
   "execution_count": 27,
   "metadata": {
    "colab": {
     "base_uri": "https://localhost:8080/",
     "height": 1000
    },
    "colab_type": "code",
    "id": "XR218aBirMdU",
    "outputId": "eb242ad8-ad42-4807-fb3b-8e83213cfd64"
   },
   "outputs": [
    {
     "data": {
      "image/png": "[encoded data removed]",
      "text/plain": [
       "<Figure size 576x1008 with 28 Axes>"
      ]
     },
     "metadata": {
      "tags": []
     },
     "output_type": "display_data"
    }
   ],
   "source": [
    "\n",
    "predictions = model.predict(test_images)\n",
    "\n",
    "train_images = train_images.reshape((60000, 28, 28))\n",
    "test_images = test_images.reshape((10000, 28, 28))\n",
    "\n",
    "\n",
    "num_rows = 7\n",
    "num_cols = 2\n",
    "num_images = num_rows*num_cols\n",
    "plt.figure(figsize=(2*2*num_cols, 2*num_rows))\n",
    "for i in range(num_images):\n",
    "  plt.subplot(num_rows, 2*num_cols, 2*i+1)\n",
    "  plot_image(i, predictions[i], test_labels, test_images)\n",
    "  plt.subplot(num_rows, 2*num_cols, 2*i+2)     \n",
    "  plot_value_array(i, predictions[i], test_labels)\n",
    "plt.tight_layout()\n",
    "plt.show()"
   ]
  }
 ],
 "metadata": {
  "accelerator": "GPU",
  "colab": {
   "name": "08_redes_neuronales_convolucionales (2).ipynb",
   "provenance": []
  },
  "kernelspec": {
   "display_name": "Python 3",
   "language": "python",
   "name": "python3"
  },
  "language_info": {
   "codemirror_mode": {
    "name": "ipython",
    "version": 3
   },
   "file_extension": ".py",
   "mimetype": "text/x-python",
   "name": "python",
   "nbconvert_exporter": "python",
   "pygments_lexer": "ipython3",
   "version": "3.9.2"
  }
 },
 "nbformat": 4,
 "nbformat_minor": 1
}
