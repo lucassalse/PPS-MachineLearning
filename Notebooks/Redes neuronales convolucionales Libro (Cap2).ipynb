{
 "cells": [
  {
   "cell_type": "markdown",
   "metadata": {},
   "source": [
    "**Bibliografía:**\n",
    "Practical Convolutional Neural Networks: Implement advanced deep learning models using Python"
   ]
  },
  {
   "cell_type": "markdown",
   "metadata": {},
   "source": [
    "**Historia de las CNN**\n",
    "\n",
    "Ha habido numerosos intentos de reconocer imágenes por máquinas durante décadas. Es un desafío imitar el sistema de reconocimiento visual del cerebro humano en una computadora. La visión humana es el sistema cognitivo sensorial más difícil de imitar y más complejo del cerebro. No hablaremos aquí de las neuronas biológicas, es decir, la corteza visual primaria, sino que nos centraremos en las neuronas artificiales. Los objetos del mundo físico son tridimensionales, mientras que las imágenes de esos objetos son bidimensionales. En este libro, presentaremos las redes neuronales sin apelar a las analogías cerebrales. En 1963, el científico informático Larry Roberts, quien también es conocido como el padre de la visión por computadora, describió la posibilidad de extraer información geométrica 3D a partir de vistas en perspectiva 2D de bloques en su tesis de investigación titulada BLOCK WORLD. Este fue el primer avance en el mundo de la visión por computadora. Muchos investigadores de todo el mundo en aprendizaje automático e inteligencia artificial siguieron este trabajo y estudiaron la visión por computadora en el contexto de BLOCK WORLD. Los seres humanos pueden reconocer bloques independientemente de cualquier cambio de orientación o iluminación que pueda ocurrir. En esta disertación, dijo que es importante comprender las formas simples en forma de bordes en las imágenes. Extrajo estas formas en forma de borde de los bloques para que la computadora entienda que estos dos bloques son iguales independientemente de la orientación:\n",
    "\n",
    "![](cnn_history.png)\n",
    "\n",
    "La visión comienza con una estructura simple. Este es el comienzo de la visión por computadora como modelo de ingeniería. David Mark, un científico de visión por computadora del MIT, nos dio el siguiente concepto importante, esa visión es jerárquica. Escribió un libro muy influyente llamado VISION. Este es un libro sencillo. Dijo que una imagen consta de varias capas. Estos dos principios forman la base de la arquitectura de aprendizaje profundo, aunque no nos dicen qué tipo de modelo matemático usar.\n",
    "\n",
    "En la década de 1970, el primer algoritmo de reconocimiento visual, conocido como modelo de cilindro generalizado, provino del laboratorio de inteligencia artificial de la Universidad de Stanford. La idea aquí es que el mundo está compuesto de formas simples y cualquier objeto del mundo real es una combinación de estas formas simples. Al mismo tiempo, otro modelo, conocido como modelo de estructura pictórica, fue publicado por SRI Inc. El concepto sigue siendo el mismo que el modelo de cilindro generalizado, pero las partes están conectadas por resortes; así, introdujo un concepto de variabilidad. El primer algoritmo de reconocimiento visual fue utilizado en una cámara digital por Fujifilm en 2006.\n",
    "\n"
   ]
  },
  {
   "cell_type": "markdown",
   "metadata": {},
   "source": [
    "**Convolutional neural networks**\n",
    "\n",
    "Las CNN, o ConvNets, son bastante similares a las redes neuronales normales. Todavía están formados por neuronas con pesos que se pueden aprender de los datos. Cada neurona recibe algunas entradas y realiza un producto escalar. Todavía tienen una función de pérdida en la última capa completamente conectada. Todavía pueden usar una función de no linealidad. Todos los consejos y técnicas que aprendimos en el último capítulo siguen siendo válidos para CNN. Como vimos en el capítulo anterior, una red neuronal regular recibe datos de entrada como un solo vector y pasa a través de una serie de capas ocultas. Cada capa oculta consta de un conjunto de neuronas, en el que cada neurona está completamente conectada a todas las demás neuronas de la capa anterior. Dentro de una sola capa, cada neurona es completamente independiente y no comparten ninguna conexión. La última capa completamente conectada, también llamada capa de salida, contiene puntuaciones de clase en el caso de un problema de clasificación de imágenes. Generalmente, hay tres capas principales en una ConvNet simple. Son la capa de convolución, la capa de agrupación y la capa completamente conectada. Podemos ver una red neuronal simple en la siguiente imagen:\n",
    "\n",
    "![](cnn_network.png)\n",
    "\n",
    "\n",
    "Entonces, ¿qué cambia? Dado que una CNN toma principalmente imágenes como entrada, esto nos permite codificar algunas propiedades en la red, reduciendo así el número de parámetros.\n",
    "En el caso de los datos de imágenes del mundo real, las CNN funcionan mejor que los perceptrones multicapa (MLP). Hay dos razones para esto:\n",
    "\n",
    "En el último capítulo, vimos que para alimentar una imagen a un MLP, convertimos la matriz de entrada en un vector numérico simple sin estructura espacial. No tiene conocimiento de que estos números estén ordenados espacialmente. Entonces, las CNN se crean por esta misma razón; es decir, dilucidar los patrones en datos multidimensionales. A diferencia de los MLP, las CNN comprenden el hecho de que los píxeles de la imagen que están más próximos entre sí están más relacionados que los píxeles que están más separados:\n",
    "\n",
    "CNN = capa de entrada + capa oculta + capa completamente conectada\n",
    "\n",
    "Las CNN se diferencian de las MLP en los tipos de capas ocultas que se pueden incluir en el modelo. Una ConvNet organiza sus neuronas en tres dimensiones: ancho, alto y profundidad. Cada capa transforma su volumen de entrada 3D en un volumen de salida 3D de neuronas utilizando funciones de activación. Por ejemplo, en la siguiente figura, la capa de entrada roja contiene la imagen. Por lo tanto, su ancho y alto son las dimensiones de la imagen, y la profundidad es tres, ya que hay canales Rojo, Verde y Azul:\n",
    "\n",
    "![](cnn_secuential.png)"
   ]
  },
  {
   "cell_type": "markdown",
   "metadata": {},
   "source": [
    "**Dropout**\n",
    "\n",
    "Se puede pensar en una red neuronal como un problema de búsqueda. Cada nodo de la red neuronal está buscando una correlación entre los datos de entrada.\n",
    "y los datos de salida correctos.\n",
    "\n",
    "La deserción apaga aleatoriamente los nodos mientras se propagan hacia adelante y, por lo tanto, ayuda a evitar que los pesos converjan a posiciones idénticas. Una vez hecho esto, enciende todos los nodos y se propaga hacia atrás. De manera similar, podemos establecer algunos de los valores de la capa en cero de forma aleatoria durante la propagación hacia adelante para realizar la eliminación en una capa.\n",
    "\n",
    "Utilice la deserción escolar solo durante el entrenamiento. No lo use en tiempo de ejecución o en su conjunto de datos de prueba.\n",
    "\n",
    "**Input layer**\n",
    "\n",
    "La capa de entrada contiene los datos de la imagen. En la siguiente figura, la capa de entrada consta de tres entradas. En una capa completamente conectada, las neuronas entre dos capas adyacentes están completamente conectadas por pares pero no comparten ninguna conexión dentro de una capa. En otras palabras, las neuronas de esta capa tienen conexiones completas con todas las activaciones de la capa anterior. Por lo tanto, sus activaciones se pueden calcular con una simple multiplicación de matrices, agregando opcionalmente un término de sesgo. La diferencia entre una capa convolucional y completamente conectada es que las neuronas en una capa convolucional están conectadas a una región local en la entrada y que también comparten parámetros.\n",
    "\n",
    "**Convolutional layer**\n",
    "\n",
    "El principal objetivo de la convolución en relación con ConvNet es extraer características de la imagen de entrada. Esta capa realiza la mayor parte del cálculo en una ConvNet. No entraremos en los detalles matemáticos de la convolución aquí, pero comprenderemos cómo funciona con imágenes.\n",
    "\n",
    "La función de activación de ReLU es extremadamente útil en CNN.\n",
    "\n",
    "**Convolutional layers in Keras**\n",
    "\n",
    "Para crear una capa convolucional en Keras, primero debe importar los módulos requeridos de la siguiente manera:\n",
    "\n",
    "form keras.layers import Conv2D\n",
    "\n",
    "Luego, puede crear una capa convolucional usando el siguiente formato:\n",
    "Conv2D (filtros, kernel_size, zancadas, relleno, activación = 'relu', input_shape)\n",
    "\n",
    "Debes pasar los siguientes argumentos:\n",
    "- filters: el número de filtros.\n",
    "- kernel_size: Un número que especifica tanto la altura como el ancho del\n",
    "ventana de convolución (cuadrada). También hay algunos argumentos opcionales adicionales que le gustaría ajustar.\n",
    "- strides: El paso de la circunvolución. Si no especifica nada, se establece en uno.\n",
    "- padding: esto es válido o igual. Si no especifica nada, el relleno se establece en válido.\n",
    "- activation: Esto suele ser relu. Si no especifica nada, no se aplica ninguna activación. Se le recomienda encarecidamente que agregue una función de activación de ReLU a cada capa convolucional en sus redes.\n",
    "\n",
    "Cuando use su capa convolucional como la primera capa (que aparece después de la capa de entrada) en un modelo, debe proporcionar un argumento input_shape adicional input_shape. Es una tupla que especifica la altura, el ancho y la profundidad (en ese orden) de la entrada.\n",
    "\n",
    "\n",
    "Hay muchos otros argumentos ajustables que puede configurar para cambiar el comportamiento de sus capas convolucionales\n",
    "\n"
   ]
  },
  {
   "cell_type": "markdown",
   "metadata": {},
   "source": [
    "**Ejemplo 1**: Para construir una CNN con una capa de entrada que acepte imágenes de 200 x 200 píxeles en escala de grises. En tales casos, la siguiente capa sería una capa convolucional de 16 filtros con ancho y alto como 2. A medida que avanzamos con la convolución, podemos configurar el filtro para que salte 2 píxeles juntos. Por lo tanto, podemos construir una capa convolucional con un filtro que no rellene las imágenes con ceros con el siguiente código:\n"
   ]
  },
  {
   "cell_type": "code",
   "execution_count": null,
   "metadata": {},
   "outputs": [],
   "source": [
    "Conv2D(filters=16, kernel_size=2, strides=2, activation='relu',\n",
    "input_shape=(200, 200, 1))"
   ]
  },
  {
   "cell_type": "markdown",
   "metadata": {},
   "source": [
    "**Ejemplo 2**: después de construir nuestro modelo de CNN, podemos tener la siguiente capa para que sea una capa convolucional. Esta capa tendrá 32 filtros con ancho y alto como 3, lo que tomaría como entrada la capa que se construyó en el ejemplo anterior. Aquí, a medida que procedemos con la convolución, configuraremos el filtro para que salte un píxel a la vez, de modo que la capa convolucional también podrá ver todas las regiones de la capa anterior. Esta capa convolucional se puede construir con la ayuda del siguiente código:"
   ]
  },
  {
   "cell_type": "code",
   "execution_count": null,
   "metadata": {},
   "outputs": [],
   "source": [
    "Conv2D(filters=32, kernel_size=3, padding='same', activation='relu')"
   ]
  },
  {
   "cell_type": "markdown",
   "metadata": {},
   "source": [
    "**Ejemplo 3**: También puede construir capas convolucionales en Keras de tamaño 2 x 2, con 64 filtros y una función de activación ReLU. Aquí, la convolución utiliza un paso de 1 con el relleno establecido en válido y todos los demás argumentos establecidos en sus valores predeterminados. Esta capa convolucional se puede construir usando el siguiente código:"
   ]
  },
  {
   "cell_type": "code",
   "execution_count": null,
   "metadata": {},
   "outputs": [],
   "source": [
    "Conv2D(64, (2,2), activation='relu')"
   ]
  },
  {
   "cell_type": "markdown",
   "metadata": {},
   "source": [
    "**Pooling layer**\n",
    "\n",
    "Como hemos visto, una capa convolucional es una pila de mapas de características, con un mapa de características para cada filtro. Más filtros aumentan la dimensionalidad de la convolución. Una dimensionalidad más alta indica más parámetros. Por lo tanto, la capa de agrupación controla el sobreajuste reduciendo progresivamente el tamaño espacial de la representación para reducir el número de parámetros y cálculos. La capa de agrupación a menudo toma la capa convolucional como entrada. El enfoque de agrupación más utilizado es la agrupación máxima. Además de la agrupación máxima, las unidades de agrupación también pueden realizar otras funciones, como la agrupación promedio. En una CNN, podemos controlar el comportamiento de la capa convolucional especificando el tamaño de cada filtro y el número de filtros. Para aumentar el número de nodos en una capa convolucional, podemos aumentar el número de filtros y para aumentar el tamaño del patrón, podemos aumentar el tamaño del filtro. También hay algunos otros hiperparámetros que se pueden ajustar. Uno de ellos es el paso de la circunvolución. Stride es la cantidad en la que el filtro se desliza sobre la imagen. Una zancada de 1 mueve el filtro 1 píxel horizontal y verticalmente. Aquí, la convolución se vuelve igual que el ancho y la profundidad de la imagen de entrada. Un paso de 2 forma una capa convolucional de la mitad del ancho y alto de la imagen. Si el filtro se extiende fuera de la imagen, entonces podemos ignorar estos valores desconocidos o reemplazarlos con ceros. Esto se conoce como relleno. En Keras, podemos establecer padding = 'valid' si es aceptable perder algunos valores. De lo contrario, establezca padding = 'same':\n"
   ]
  },
  {
   "cell_type": "markdown",
   "metadata": {},
   "source": [
    "**Image augmentation**\n",
    "\n",
    "Mientras entrenamos un modelo de CNN, no queremos que el modelo cambie ninguna predicción basada en el tamaño, el ángulo y la posición de la imagen. La imagen se representa como una matriz de valores de píxeles, por lo que el tamaño, el ángulo y la posición tienen un gran efecto en los valores de los píxeles. Para hacer que el modelo sea más invariante en cuanto al tamaño, podemos agregar diferentes tamaños de la imagen al conjunto de entrenamiento. De manera similar, para hacer que el modelo sea más invariante en rotación, podemos agregar imágenes con diferentes ángulos. Este proceso se conoce como aumento de datos de imágenes. Esto también ayuda a evitar el sobreajuste. El sobreajuste ocurre cuando un modelo se expone a muy pocas muestras. El aumento de datos de imágenes es una forma de reducir el sobreajuste, pero puede que no sea suficiente porque las imágenes aumentadas todavía están correlacionadas. Keras proporciona una clase de aumento de imágenes llamada ImageDataGenerator que define la configuración para el aumento de datos de imágenes. Esto también proporciona otras características como:\n",
    "\n",
    "- Estandarización basada en muestras y características\n",
    "- Rotación aleatoria, cambios, distorsión y zoom de la imagen\n",
    "- Volteo horizontal y vertical\n",
    "- Blanqueamiento ZCA\n",
    "- Reordenamiento de dimensiones\n",
    "- Guardar los cambios en el disco\n",
    "\n",
    "Se puede crear un objeto generador de imágenes aumentadas de la siguiente manera:"
   ]
  },
  {
   "cell_type": "code",
   "execution_count": null,
   "metadata": {},
   "outputs": [],
   "source": [
    "imagedatagen = ImageDataGenerator()"
   ]
  },
  {
   "cell_type": "markdown",
   "metadata": {},
   "source": [
    "**ImageDataGenerator class**\n",
    "\n",
    "\n",
    "Genere lotes de datos de imágenes de tensores con aumento de datos en tiempo real.\n",
    "Los datos se repetirán (en lotes).\n",
    "\n"
   ]
  },
  {
   "cell_type": "code",
   "execution_count": null,
   "metadata": {},
   "outputs": [],
   "source": [
    "tf.keras.preprocessing.image.ImageDataGenerator(\n",
    "    featurewise_center=False,\n",
    "    samplewise_center=False,\n",
    "    featurewise_std_normalization=False,\n",
    "    samplewise_std_normalization=False,\n",
    "    zca_whitening=False,\n",
    "    zca_epsilon=1e-06,\n",
    "    rotation_range=0,\n",
    "    width_shift_range=0.0,\n",
    "    height_shift_range=0.0,\n",
    "    brightness_range=None,\n",
    "    shear_range=0.0,\n",
    "    zoom_range=0.0,\n",
    "    channel_shift_range=0.0,\n",
    "    fill_mode=\"nearest\",\n",
    "    cval=0.0,\n",
    "    horizontal_flip=False,\n",
    "    vertical_flip=False,\n",
    "    rescale=None,\n",
    "    preprocessing_function=None,\n",
    "    data_format=None,\n",
    "    validation_split=0.0,\n",
    "    dtype=None,\n",
    ")\n"
   ]
  },
  {
   "cell_type": "markdown",
   "metadata": {},
   "source": [
    "Esta API genera lotes de datos de imágenes de tensores en el aumento de datos en tiempo real, en lugar de procesar un conjunto de datos de imágenes completo en la memoria. Esta API está diseñada para crear datos de imágenes aumentados durante el proceso de ajuste del modelo. Por lo tanto, reduce la sobrecarga de memoria pero agrega algo de tiempo para el entrenamiento del modelo.\n",
    "\n",
    "Una vez creado y configurado, debe ajustar sus datos. Esto calcula las estadísticas necesarias para realizar las transformaciones en datos de imagen. Esto se hace llamando a la función *fit ()* en el generador de datos y pasándola al conjunto de datos de entrenamiento, de la siguiente manera:\n"
   ]
  },
  {
   "cell_type": "code",
   "execution_count": null,
   "metadata": {},
   "outputs": [],
   "source": [
    "imagedatagen.fit(train_data)"
   ]
  },
  {
   "cell_type": "markdown",
   "metadata": {},
   "source": [
    "Se puede configurar el tamaño del lote, se puede preparar el generador de datos y se pueden recibir lotes de imágenes llamando a la función *flow ()*:"
   ]
  },
  {
   "cell_type": "code",
   "execution_count": null,
   "metadata": {},
   "outputs": [],
   "source": [
    "imagedatagen.flow(x_train, y_train, batch_size=32)"
   ]
  },
  {
   "cell_type": "markdown",
   "metadata": {},
   "source": [
    "**Otro ejemplo usando flow()**"
   ]
  },
  {
   "cell_type": "code",
   "execution_count": null,
   "metadata": {},
   "outputs": [],
   "source": [
    "(x_train, y_train), (x_test, y_test) = cifar10.load_data()\n",
    "y_train = np_utils.to_categorical(y_train, num_classes)\n",
    "y_test = np_utils.to_categorical(y_test, num_classes)\n",
    "datagen = ImageDataGenerator(\n",
    "    featurewise_center=True,\n",
    "    featurewise_std_normalization=True,\n",
    "    rotation_range=20,\n",
    "    width_shift_range=0.2,\n",
    "    height_shift_range=0.2,\n",
    "    horizontal_flip=True)\n",
    "# compute quantities required for featurewise normalization\n",
    "# (std, mean, and principal components if ZCA whitening is applied)\n",
    "datagen.fit(x_train)\n",
    "# fits the model on batches with real-time data augmentation:\n",
    "model.fit(datagen.flow(x_train, y_train, batch_size=32),\n",
    "          steps_per_epoch=len(x_train) / 32, epochs=epochs)\n",
    "# here's a more \"manual\" example\n",
    "for e in range(epochs):\n",
    "    print('Epoch', e)\n",
    "    batches = 0\n",
    "    for x_batch, y_batch in datagen.flow(x_train, y_train, batch_size=32):\n",
    "        model.fit(x_batch, y_batch)\n",
    "        batches += 1\n",
    "        if batches >= len(x_train) / 32:\n",
    "            # we need to break the loop by hand because\n",
    "            # the generator loops indefinitely\n",
    "            break"
   ]
  },
  {
   "cell_type": "markdown",
   "metadata": {},
   "source": [
    "Finalmente, llame a la función *fit_generator ()* en lugar de llamar a la función *fit ()* en el modelo:"
   ]
  },
  {
   "cell_type": "code",
   "execution_count": null,
   "metadata": {},
   "outputs": [],
   "source": [
    "fit_generator(imagedatagen, samples_per_epoch=len(X_train), epochs=200)"
   ]
  },
  {
   "cell_type": "markdown",
   "metadata": {},
   "source": [
    "En nuevas versiones la funcion *fit_generator()* ya no s empleada, se utiliza solamente la función *fit()* como indica la documentación de keras"
   ]
  },
  {
   "cell_type": "markdown",
   "metadata": {},
   "source": [
    "Veamos algunos ejemplos para comprender cómo funciona la API de aumento de imágenes en Keras. Usaremos la tarea de reconocimiento de dígitos manuscritos de MNIST en estos ejemplos."
   ]
  },
  {
   "cell_type": "markdown",
   "metadata": {},
   "source": [
    "Comencemos por echar un vistazo a las primeras nueve imágenes del conjunto de datos de entrenamiento:"
   ]
  },
  {
   "cell_type": "code",
   "execution_count": 2,
   "metadata": {},
   "outputs": [
    {
     "data": {
      "image/png": "[encoded data removed]",
      "text/plain": [
       "<Figure size 432x288 with 9 Axes>"
      ]
     },
     "metadata": {
      "needs_background": "light"
     },
     "output_type": "display_data"
    }
   ],
   "source": [
    "#Plot images\n",
    "from keras.datasets import mnist\n",
    "from matplotlib import pyplot\n",
    "#loading data\n",
    "(X_train, y_train), (X_test, y_test) = mnist.load_data()\n",
    "#creating a grid of 3x3 images\n",
    "for i in range(0, 9):\n",
    "    pyplot.subplot(330 + 1 + i)\n",
    "    pyplot.imshow(X_train[i], cmap=pyplot.get_cmap('gray'))\n",
    "#Displaying the plot\n",
    "pyplot.show()"
   ]
  },
  {
   "cell_type": "markdown",
   "metadata": {},
   "source": [
    "El siguiente fragmento de código crea imágenes aumentadas a partir del conjunto de datos CIFAR-10. Agregaremos estas imágenes al conjunto de entrenamiento del último ejemplo y veremos cómo aumenta la precisión de la clasificación:"
   ]
  },
  {
   "cell_type": "code",
   "execution_count": null,
   "metadata": {},
   "outputs": [],
   "source": [
    "from keras.preprocessing.image import ImageDataGenerator\n",
    "# creating and configuring augmented image generator\n",
    "datagen_train = ImageDataGenerator(\n",
    "width_shift_range=0.1, # shifting randomly images horizontally (10% of total width)\n",
    "height_shift_range=0.1, # shifting randomly images vertically (10% of total height)\n",
    "horizontal_flip=True) # flipping randomly images horizontally\n",
    "# creating and configuring augmented image generator\n",
    "datagen_valid = ImageDataGenerator(\n",
    "width_shift_range=0.1, # shifting randomly images horizontally (10% of total width)\n",
    "height_shift_range=0.1, # shifting randomly images vertically (10% of totalheight)\n",
    "horizontal_flip=True) # flipping randomly images horizontally\n",
    "# fitting augmented image generator on data\n",
    "datagen_train.fit(X_train)"
   ]
  },
  {
   "cell_type": "markdown",
   "metadata": {},
   "source": []
  },
  {
   "cell_type": "code",
   "execution_count": null,
   "metadata": {},
   "outputs": [],
   "source": []
  },
  {
   "cell_type": "code",
   "execution_count": null,
   "metadata": {},
   "outputs": [],
   "source": []
  }
 ],
 "metadata": {
  "kernelspec": {
   "display_name": "Python 3",
   "language": "python",
   "name": "python3"
  },
  "language_info": {
   "codemirror_mode": {
    "name": "ipython",
    "version": 3
   },
   "file_extension": ".py",
   "mimetype": "text/x-python",
   "name": "python",
   "nbconvert_exporter": "python",
   "pygments_lexer": "ipython3",
   "version": "3.8.5"
  }
 },
 "nbformat": 4,
 "nbformat_minor": 4
}
