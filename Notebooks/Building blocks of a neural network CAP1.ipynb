{
 "cells": [
  {
   "cell_type": "markdown",
   "metadata": {},
   "source": [
    "**Bibliografía:**\n",
    "Practical Convolutional Neural Networks: Implement advanced deep learning models using Python"
   ]
  },
  {
   "cell_type": "markdown",
   "metadata": {},
   "source": [
    "**Building blocks of a neural network**\n",
    "\n",
    "Una red neuronal está formada por muchas neuronas artificiales. ¿Es una representación del cerebro o es una representación matemática de algún conocimiento? Aquí, simplemente intentaremos comprender cómo se usa una red neuronal en la práctica. Una red neuronal convolucional (CNN) es un tipo muy especial de red neuronal multicapa. CNN está diseñado para reconocer patrones visuales directamente a partir de imágenes con un procesamiento mínimo.\n",
    "\n",
    "Una neurona artificial es una función que toma una entrada y produce una salida. La cantidad de neuronas que se utilizan depende de la tarea en cuestión. Podría ser tan bajo como dos o hasta varios miles. Existen numerosas formas de conectar neuronas artificiales para crear una CNN. Una de esas topologías que se usa comúnmente se conoce como red de alimentación directa:\n",
    "\n",
    "![](neurona_pesos.png)\n",
    "\n",
    "Cada neurona recibe información de otras neuronas. El efecto de cada línea de entrada en la neurona está controlado por el peso. El peso puede ser positivo o negativo. Toda la red neuronal aprende a realizar cálculos útiles para reconocer objetos mediante la comprensión del lenguaje. Ahora, podemos conectar esas neuronas en una red conocida como red de avance. Esto significa que las neuronas en cada capa alimentan su salida hacia la siguiente capa hasta que obtenemos una salida final.\n",
    "\n",
    "La neurona de propagación directa anterior se puede implementar de la siguiente manera:"
   ]
  },
  {
   "cell_type": "code",
   "execution_count": 26,
   "metadata": {},
   "outputs": [],
   "source": [
    "import numpy as np\n",
    "import math"
   ]
  },
  {
   "cell_type": "code",
   "execution_count": 27,
   "metadata": {},
   "outputs": [],
   "source": [
    "class Neuron(object):\n",
    "    def __init__(self):\n",
    "        self.weights = np.array([1.0, 2.0])\n",
    "        self.bias = 0.0\n",
    "    def forward(self, inputs):\n",
    "        \"\"\" Assuming that inputs and weights are 1-D numpy arrays and the bias is\n",
    "a number \"\"\"\n",
    "        a_cell_sum = np.sum(inputs * self.weights) + self.bias\n",
    "        result = 1.0 / (1.0 + math.exp(-a_cell_sum)) # This is the sigmoid activation function\n",
    "        return result"
   ]
  },
  {
   "cell_type": "code",
   "execution_count": 28,
   "metadata": {},
   "outputs": [
    {
     "name": "stdout",
     "output_type": "stream",
     "text": [
      "0.9525741268224334\n"
     ]
    }
   ],
   "source": [
    "neuron = Neuron()\n",
    "output = neuron.forward(np.array([1,1]))\n",
    "print(output)"
   ]
  },
  {
   "cell_type": "markdown",
   "metadata": {},
   "source": [
    "Como se puede ver se tiene una clase de nombre *Neuron* la cual crea una neurona con un bias de 0.0 y un determinado arreglo np de pesos.\n",
    "Luego la función *forward* se encarga de \"ingresalre\" a la nuerona inputs para obtener un resultado, habiendole aplicado anteriormente la función de activación (En este caso una sigmoide)."
   ]
  },
  {
   "cell_type": "code",
   "execution_count": 7,
   "metadata": {},
   "outputs": [
    {
     "name": "stdout",
     "output_type": "stream",
     "text": [
      "b'Hello World!'\n"
     ]
    }
   ],
   "source": []
  },
  {
   "cell_type": "markdown",
   "metadata": {},
   "source": [
    "**Introduction to TensorFlow**\n",
    "\n",
    "TensorFlow se basa en cálculos basados en gráficos. Considere la siguiente expresión matemática, por ejemplo:\n",
    "\n",
    "c = (a + b), d = b + 5,\n",
    "e = c * d\n",
    "\n",
    "En TensorFlow, esto se representa como un gráfico computacional, como se muestra aquí. Esto es poderoso porque los cálculos se realizan en paralelo:\n",
    "\n",
    "![](tensorflow_graph.png)\n",
    "\n",
    "**TensorFlow basics**\n",
    "\n",
    "En TensorFlow, los datos no se almacenan como números enteros, flotantes, cadenas u otras primitivas. Estos valores están encapsulados en un objeto llamado tensor. Consiste en un conjunto de valores primitivos conformados en una matriz de cualquier número de dimensiones. El número de dimensiones en un tensor se llama rango. Algunos ejemplos más de tensores constantes son los siguientes:"
   ]
  },
  {
   "cell_type": "code",
   "execution_count": 29,
   "metadata": {},
   "outputs": [],
   "source": [
    "import tensorflow.compat.v1 as tf\n",
    "tf.disable_v2_behavior() "
   ]
  },
  {
   "cell_type": "code",
   "execution_count": 30,
   "metadata": {},
   "outputs": [],
   "source": [
    "# A is an int32 tensor with rank = 0\n",
    "A = tf.constant(123)\n",
    "# B is an int32 tensor with dimension of 1 ( rank = 1 )\n",
    "B = tf.constant([123,456,789])\n",
    "# C is an int32 2- dimensional tensor\n",
    "C = tf.constant([ [123,456,789], [222,333,444] ])"
   ]
  },
  {
   "cell_type": "code",
   "execution_count": 31,
   "metadata": {},
   "outputs": [
    {
     "name": "stdout",
     "output_type": "stream",
     "text": [
      "b'Hello World!'\n"
     ]
    }
   ],
   "source": [
    "#Creating TensorFlow object\n",
    "hello_constant = tf.constant('Hello World!', name = 'hello_constant')\n",
    "#Creating a session object for execution of the computational graph\n",
    "with tf.Session() as sess:\n",
    "    #Implementing the tf.constant operation in the session\n",
    "    output = sess.run(hello_constant)\n",
    "    print(output)"
   ]
  },
  {
   "cell_type": "markdown",
   "metadata": {},
   "source": [
    "El programa principal de TensorFlow se basa en la idea de un gráfico computacional. Un gráfico computacional es un gráfico dirigido que consta de las dos partes siguientes:\n",
    "- Construyendo un gráfico computacional\n",
    "- Ejecutando un gráfico computacional\n",
    "\n",
    "Un gráfico computacional se ejecuta dentro de una sesión. Una sesión de TensorFlow es un entorno de ejecución para el gráfico computacional. Asigna la CPU o GPU y mantiene el estado del tiempo de ejecución de TensorFlow. El siguiente código crea una instancia de sesión llamada sess usando tf.Session. Luego, la función sess.run () evalúa el tensor y devuelve los resultados almacenados en la variable de salida. ¡Finalmente se imprime como Hello World !:"
   ]
  },
  {
   "cell_type": "code",
   "execution_count": 32,
   "metadata": {},
   "outputs": [
    {
     "name": "stdout",
     "output_type": "stream",
     "text": [
      "b'Hello World!'\n"
     ]
    }
   ],
   "source": [
    "with tf.Session() as sess:\n",
    "    # Run the tf.constant operation in the session\n",
    "    output = sess.run(hello_constant)\n",
    "    print(output)"
   ]
  },
  {
   "cell_type": "code",
   "execution_count": 11,
   "metadata": {},
   "outputs": [],
   "source": [
    "## tensorboard --logdir=path/to/log-directory"
   ]
  },
  {
   "cell_type": "markdown",
   "metadata": {},
   "source": [
    "**Basic math with TensorFlow**\n",
    "\n",
    "- La función tf.add () toma dos números, dos tensores o uno de cada uno, y devuelve su suma como un tensor:"
   ]
  },
  {
   "cell_type": "code",
   "execution_count": 33,
   "metadata": {},
   "outputs": [
    {
     "name": "stdout",
     "output_type": "stream",
     "text": [
      "Tensor(\"Add_2:0\", shape=(), dtype=int32)\n"
     ]
    }
   ],
   "source": [
    "## Addition\n",
    "x = tf.add(1, 2, name=None) # 3\n",
    "print (x)"
   ]
  },
  {
   "cell_type": "code",
   "execution_count": 35,
   "metadata": {},
   "outputs": [
    {
     "name": "stdout",
     "output_type": "stream",
     "text": [
      "Tensor(\"Sub_3:0\", shape=(), dtype=int32)\n",
      "Tensor(\"Mul_4:0\", shape=(), dtype=int32)\n"
     ]
    }
   ],
   "source": [
    "## Here's an example with subtraction and multiplication:\n",
    "x = tf.subtract(1, 2,name=None) # -1\n",
    "y = tf.multiply(2, 5,name=None) # 10\n",
    "\n",
    "print (x)\n",
    "print (y)"
   ]
  },
  {
   "cell_type": "markdown",
   "metadata": {},
   "source": [
    "http://blog.crespo.org.ve/2018/02/hola-mundo-desde-tensorflow.html"
   ]
  },
  {
   "cell_type": "code",
   "execution_count": 36,
   "metadata": {},
   "outputs": [],
   "source": [
    "#Se crea una constante en la variable hola, donde se le pasa un string\n",
    "hola = tf.constant(\"Hola mundo desde TensorFlow!\")"
   ]
  },
  {
   "cell_type": "code",
   "execution_count": 37,
   "metadata": {},
   "outputs": [
    {
     "name": "stdout",
     "output_type": "stream",
     "text": [
      "Tensor(\"Const_7:0\", shape=(), dtype=string)\n"
     ]
    }
   ],
   "source": [
    "#Veamos que devuelve la variable hola\n",
    "print(hola)"
   ]
  },
  {
   "cell_type": "code",
   "execution_count": 38,
   "metadata": {},
   "outputs": [],
   "source": [
    "#Se crea la sesión de tensorflow\n",
    "sess=tf.Session()"
   ]
  },
  {
   "cell_type": "code",
   "execution_count": 39,
   "metadata": {},
   "outputs": [
    {
     "name": "stdout",
     "output_type": "stream",
     "text": [
      "b'Hola mundo desde TensorFlow!'\n"
     ]
    }
   ],
   "source": [
    "#Se corre la sesión pasandole la variable hola\n",
    "print(sess.run(hola))"
   ]
  },
  {
   "cell_type": "markdown",
   "metadata": {},
   "source": [
    "Como se puede ver, para poder visualizar el valor de una constante de TensorFlow se \n",
    "tiene que crear la sesión y ejecutar en la sesión la constante."
   ]
  },
  {
   "cell_type": "markdown",
   "metadata": {},
   "source": [
    "¿Qué pasa si queremos usar una no constante? ¿Cómo alimentar un conjunto de datos de entrada a TensorFlow? Para esto, TensorFlow proporciona una API, tf.placeholder (), y usa feed_dict.\n",
    "\n",
    "Un marcador de posición es una variable a la que se asignan datos más adelante en la función tf.session.run (). Con la ayuda de esto, se pueden crear nuestras operaciones y podemos construir nuestro gráfico computacional sin necesidad de los datos. Posteriormente, estos datos se introducen en el gráfico a través de estos marcadores de posición con la ayuda del parámetro feed_dict en tf.session.run () para establecer el tensor del marcador de posición. En el siguiente ejemplo, el tensor x se establece en la cadena Hello World antes de que se ejecute la sesión:"
   ]
  },
  {
   "cell_type": "code",
   "execution_count": 40,
   "metadata": {},
   "outputs": [
    {
     "name": "stdout",
     "output_type": "stream",
     "text": [
      "Tensor(\"Placeholder_5:0\", dtype=string)\n"
     ]
    },
    {
     "data": {
      "text/plain": [
       "array('Hello World', dtype=object)"
      ]
     },
     "execution_count": 40,
     "metadata": {},
     "output_type": "execute_result"
    }
   ],
   "source": [
    "x = tf.placeholder(tf.string)\n",
    "with tf.Session() as sess:\n",
    "    output = sess.run(x, feed_dict={x: 'Hello World'})\n",
    "\n",
    "print (x)\n",
    "output"
   ]
  },
  {
   "cell_type": "markdown",
   "metadata": {},
   "source": [
    "El objeto Variable de Tensorflow permite definir una variable (almacenar un estado en un objeto Graph con un valor inicial), en cambio, el objeto placeholder se usa para agregar datos externos dentro de un Objeto Graph, pero los datos a agregar no se agregan al crear el placeholder, para ello se usa la inicialización de las variables."
   ]
  },
  {
   "cell_type": "markdown",
   "metadata": {},
   "source": [
    "También es posible establecer más de un tensor usando feed_dict, de la siguiente manera:"
   ]
  },
  {
   "cell_type": "code",
   "execution_count": 41,
   "metadata": {},
   "outputs": [
    {
     "data": {
      "text/plain": [
       "array('Welcome to CNN', dtype=object)"
      ]
     },
     "execution_count": 41,
     "metadata": {},
     "output_type": "execute_result"
    }
   ],
   "source": [
    "x = tf.placeholder(tf.string)\n",
    "y = tf.placeholder(tf.int32, None)\n",
    "z = tf.placeholder(tf.float32, None)\n",
    "with tf.Session() as sess:\n",
    "    output = sess.run(x, feed_dict={x: 'Welcome to CNN', y: 123, z: 123.45})\n",
    "\n",
    "output"
   ]
  },
  {
   "cell_type": "markdown",
   "metadata": {},
   "source": [
    "Los marcadores de posición también pueden permitir el almacenamiento de matrices con la ayuda de múltiples dimensiones. Por favor, vea el siguiente ejemplo:"
   ]
  },
  {
   "cell_type": "code",
   "execution_count": 42,
   "metadata": {},
   "outputs": [
    {
     "name": "stdout",
     "output_type": "stream",
     "text": [
      "[[ 2.  4.  6.]\n",
      " [ 8. 10. 12.]]\n"
     ]
    }
   ],
   "source": [
    "x = tf.placeholder(\"float\", [None, 3])\n",
    "y = x * 2\n",
    "with tf.Session() as session:\n",
    "    input_data = [[1, 2, 3],\n",
    "                [4, 5, 6],]\n",
    "    result = session.run(y, feed_dict={x: input_data})\n",
    "    print(result)"
   ]
  },
  {
   "cell_type": "markdown",
   "metadata": {},
   "source": [
    "**La función tf.truncated_normal () devuelve un tensor con valores aleatorios de una distribución normal. Esto se usa principalmente para la inicialización del peso en una red:**"
   ]
  },
  {
   "cell_type": "code",
   "execution_count": 43,
   "metadata": {},
   "outputs": [
    {
     "name": "stdout",
     "output_type": "stream",
     "text": [
      "[[ 0.8804754   0.13455978]\n",
      " [ 0.07356802 -1.1384797 ]\n",
      " [ 0.29588625 -0.1706254 ]\n",
      " [-0.9211794   1.5955393 ]\n",
      " [ 0.2450367  -1.036288  ]]\n"
     ]
    }
   ],
   "source": [
    "n_features = 5\n",
    "n_labels = 2\n",
    "weights = tf.truncated_normal((n_features, n_labels))\n",
    "with tf.Session() as sess:\n",
    "    print(sess.run(weights))"
   ]
  },
  {
   "cell_type": "code",
   "execution_count": null,
   "metadata": {},
   "outputs": [],
   "source": []
  },
  {
   "cell_type": "code",
   "execution_count": null,
   "metadata": {},
   "outputs": [],
   "source": []
  }
 ],
 "metadata": {
  "kernelspec": {
   "display_name": "Python 3",
   "language": "python",
   "name": "python3"
  },
  "language_info": {
   "codemirror_mode": {
    "name": "ipython",
    "version": 3
   },
   "file_extension": ".py",
   "mimetype": "text/x-python",
   "name": "python",
   "nbconvert_exporter": "python",
   "pygments_lexer": "ipython3",
   "version": "3.8.5"
  }
 },
 "nbformat": 4,
 "nbformat_minor": 4
}
